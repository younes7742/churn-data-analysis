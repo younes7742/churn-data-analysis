{
 "cells": [
  {
   "cell_type": "markdown",
   "id": "a503470e-31d9-41c6-96f9-3fe540f8a234",
   "metadata": {},
   "source": [
    "<p class=MsoNormal><b><u><span style='font-size:18.0pt;line-height:115%;\n",
    "color:#AA0E02;mso-bidi-language:AR-DZ'>Work Steps<o:p></o:p></span></u></b></p>\n",
    "\n",
    "<ul style='margin-top:0in' type=disc>\n",
    " <li class=MsoNormal style='mso-list:l0 level1 lfo1;tab-stops:list .5in'><span\n",
    "     style='mso-bidi-language:AR-DZ'>We uploaded an <span style='color:#70AD47;\n",
    "     mso-themecolor:accent6'>Excel file </span>into the <span class=SpellE><span\n",
    "     style='color:#ED7D31;mso-themecolor:accent2'>Jupyter</span></span><span\n",
    "     style='color:#ED7D31;mso-themecolor:accent2'> Lab </span>environment.<o:p></o:p></span></li>\n",
    " <li class=MsoNormal style='mso-list:l0 level1 lfo1;tab-stops:list .5in'><span\n",
    "     style='mso-bidi-language:AR-DZ'>We checked for <span style='color:#EE0000'>errors\n",
    "     or duplicate data </span><o:p></o:p></span></li>\n",
    " <li class=MsoNormal style='mso-list:l0 level1 lfo1;tab-stops:list .5in'><span\n",
    "     style='mso-bidi-language:AR-DZ'>We converted the <span class=SpellE><b>Onboard_date</b></span>\n",
    "     column from object type to datetime.<o:p></o:p></span></li>\n",
    " <li class=MsoNormal style='mso-list:l0 level1 lfo1;tab-stops:list .5in'><span\n",
    "     style='mso-bidi-language:AR-DZ'>We analyzed the data and created\n",
    "     visualizations <span style='color:#F7A7E6'>to study the data more deeply</span>.<o:p></o:p></span></li>\n",
    " <li class=MsoNormal style='mso-list:l0 level1 lfo1;tab-stops:list .5in'><span\n",
    "     style='mso-bidi-language:AR-DZ'>We saved the visualizations into a single <span\n",
    "     style='color:#92D050'>Excel sheet </span>to make it easier for anyone who\n",
    "     just wants to quickly review them.<o:p></o:p></span></li>\n",
    " <li class=MsoNormal style='mso-list:l0 level1 lfo1;tab-stops:list .5in'><span\n",
    "     style='color:#00B0F0;mso-bidi-language:AR-DZ'>For machine learning</span><span\n",
    "     style='mso-bidi-language:AR-DZ'>, we created a new <span class=SpellE>dataframe</span>\n",
    "     containing only numerical data<span class=GramE>, <span dir=RTL></span><span\n",
    "     lang=AR-DZ dir=RTL style='font-family:\"Arial\",sans-serif;mso-ascii-font-family:\n",
    "     Calibri;mso-ascii-theme-font:minor-latin;mso-hansi-font-family:Calibri;\n",
    "     mso-hansi-theme-font:minor-latin;mso-bidi-theme-font:minor-bidi;\n",
    "     color:black;mso-themecolor:text1'><span dir=RTL></span>)</span>excluding</span>\n",
    "     textual data since it does not help in predicting the <span class=GramE>outcome<span\n",
    "     dir=RTL></span><span lang=AR-DZ dir=RTL style='font-family:\"Arial\",sans-serif;\n",
    "     mso-ascii-font-family:Calibri;mso-ascii-theme-font:minor-latin;mso-hansi-font-family:\n",
    "     Calibri;mso-hansi-theme-font:minor-latin;mso-bidi-theme-font:minor-bidi'><span\n",
    "     dir=RTL></span>(</span></span><span dir=LTR></span><span dir=LTR></span>.<o:p></o:p></span></li>\n",
    " <li class=MsoNormal style='mso-list:l0 level1 lfo1;tab-stops:list .5in'><span\n",
    "     style='mso-bidi-language:AR-DZ'>We used <span style='color:yellow'>SMOTE </span>to\n",
    "     balance the dataset.<o:p></o:p></span></li>\n",
    " <li class=MsoNormal style='mso-list:l0 level1 lfo1;tab-stops:list .5in'><span\n",
    "     style='mso-bidi-language:AR-DZ'>We applied <span class=SpellE><span\n",
    "     style='color:#34A0B6'>GridSearchCV</span></span> to find the best model\n",
    "     hyperparameters.<o:p></o:p></span></li>\n",
    " <li class=MsoNormal style='mso-list:l0 level1 lfo1;tab-stops:list .5in'><span\n",
    "     style='mso-bidi-language:AR-DZ'>Then, <span style='color:#7BF771'>we\n",
    "     identified the best model</span>.<o:p></o:p></span></li>\n",
    " <li class=MsoNormal style='mso-list:l0 level1 lfo1;tab-stops:list .5in'><span\n",
    "     style='mso-bidi-language:AR-DZ'>We adjusted the decision threshold <span\n",
    "     style='color:#00B0F0'>to improve the results</span>.<o:p></o:p></span></li>\n",
    "</ul>\n",
    "\n",
    "<p class=MsoNormal><span lang=AR-DZ dir=RTL style='font-family:\"Arial\",sans-serif;\n",
    "mso-ascii-font-family:Calibri;mso-ascii-theme-font:minor-latin;mso-hansi-font-family:\n",
    "Calibri;mso-hansi-theme-font:minor-latin;mso-bidi-theme-font:minor-bidi;\n",
    "mso-bidi-language:AR-DZ'><o:p>&nbsp;</o:p></span></p>\n"
   ]
  },
  {
   "cell_type": "code",
   "execution_count": 1,
   "id": "f177a4b2-c5e1-4841-a88e-0a1ad92cf7ad",
   "metadata": {},
   "outputs": [],
   "source": [
    "import pandas as pd\n",
    "import numpy as np\n",
    "import matplotlib.pyplot as plt\n",
    "import seaborn as sns\n",
    "import plotly.express as px\n",
    "import math\n",
    "from openpyxl import Workbook\n",
    "from openpyxl.drawing.image import Image\n"
   ]
  },
  {
   "cell_type": "code",
   "execution_count": 2,
   "id": "4804457c-9b86-4458-9d70-ac2bc8cb154a",
   "metadata": {},
   "outputs": [],
   "source": [
    "# import data from sheet exel\n",
    "df=pd.read_csv(r'C:\\Users\\youne\\OneDrive\\Bureau\\data analys\\training\\churn1\\customer_churn.csv')"
   ]
  },
  {
   "cell_type": "markdown",
   "id": "9d6e85b4-c491-4cd0-b3a3-872f76e964da",
   "metadata": {},
   "source": [
    "# data explor"
   ]
  },
  {
   "cell_type": "code",
   "execution_count": 3,
   "id": "25c373c6-e470-4bce-b0dc-1a7a23285630",
   "metadata": {},
   "outputs": [
    {
     "data": {
      "text/html": [
       "<div>\n",
       "<style scoped>\n",
       "    .dataframe tbody tr th:only-of-type {\n",
       "        vertical-align: middle;\n",
       "    }\n",
       "\n",
       "    .dataframe tbody tr th {\n",
       "        vertical-align: top;\n",
       "    }\n",
       "\n",
       "    .dataframe thead th {\n",
       "        text-align: right;\n",
       "    }\n",
       "</style>\n",
       "<table border=\"1\" class=\"dataframe\">\n",
       "  <thead>\n",
       "    <tr style=\"text-align: right;\">\n",
       "      <th></th>\n",
       "      <th>Names</th>\n",
       "      <th>Age</th>\n",
       "      <th>Total_Purchase</th>\n",
       "      <th>Account_Manager</th>\n",
       "      <th>Years</th>\n",
       "      <th>Num_Sites</th>\n",
       "      <th>Onboard_date</th>\n",
       "      <th>Location</th>\n",
       "      <th>Company</th>\n",
       "      <th>Churn</th>\n",
       "    </tr>\n",
       "  </thead>\n",
       "  <tbody>\n",
       "    <tr>\n",
       "      <th>0</th>\n",
       "      <td>Cameron Williams</td>\n",
       "      <td>42.0</td>\n",
       "      <td>11066.80</td>\n",
       "      <td>0</td>\n",
       "      <td>7.22</td>\n",
       "      <td>8.0</td>\n",
       "      <td>2013-08-30 07:00:40</td>\n",
       "      <td>10265 Elizabeth Mission Barkerburgh, AK 89518</td>\n",
       "      <td>Harvey LLC</td>\n",
       "      <td>1</td>\n",
       "    </tr>\n",
       "    <tr>\n",
       "      <th>1</th>\n",
       "      <td>Kevin Mueller</td>\n",
       "      <td>41.0</td>\n",
       "      <td>11916.22</td>\n",
       "      <td>0</td>\n",
       "      <td>6.50</td>\n",
       "      <td>11.0</td>\n",
       "      <td>2013-08-13 00:38:46</td>\n",
       "      <td>6157 Frank Gardens Suite 019 Carloshaven, RI 1...</td>\n",
       "      <td>Wilson PLC</td>\n",
       "      <td>1</td>\n",
       "    </tr>\n",
       "    <tr>\n",
       "      <th>2</th>\n",
       "      <td>Eric Lozano</td>\n",
       "      <td>38.0</td>\n",
       "      <td>12884.75</td>\n",
       "      <td>0</td>\n",
       "      <td>6.67</td>\n",
       "      <td>12.0</td>\n",
       "      <td>2016-06-29 06:20:07</td>\n",
       "      <td>1331 Keith Court Alyssahaven, DE 90114</td>\n",
       "      <td>Miller, Johnson and Wallace</td>\n",
       "      <td>1</td>\n",
       "    </tr>\n",
       "    <tr>\n",
       "      <th>3</th>\n",
       "      <td>Phillip White</td>\n",
       "      <td>42.0</td>\n",
       "      <td>8010.76</td>\n",
       "      <td>0</td>\n",
       "      <td>6.71</td>\n",
       "      <td>10.0</td>\n",
       "      <td>2014-04-22 12:43:12</td>\n",
       "      <td>13120 Daniel Mount Angelabury, WY 30645-4695</td>\n",
       "      <td>Smith Inc</td>\n",
       "      <td>1</td>\n",
       "    </tr>\n",
       "    <tr>\n",
       "      <th>4</th>\n",
       "      <td>Cynthia Norton</td>\n",
       "      <td>37.0</td>\n",
       "      <td>9191.58</td>\n",
       "      <td>0</td>\n",
       "      <td>5.56</td>\n",
       "      <td>9.0</td>\n",
       "      <td>2016-01-19 15:31:15</td>\n",
       "      <td>765 Tricia Row Karenshire, MH 71730</td>\n",
       "      <td>Love-Jones</td>\n",
       "      <td>1</td>\n",
       "    </tr>\n",
       "  </tbody>\n",
       "</table>\n",
       "</div>"
      ],
      "text/plain": [
       "              Names   Age  Total_Purchase  Account_Manager  Years  Num_Sites  \\\n",
       "0  Cameron Williams  42.0        11066.80                0   7.22        8.0   \n",
       "1     Kevin Mueller  41.0        11916.22                0   6.50       11.0   \n",
       "2       Eric Lozano  38.0        12884.75                0   6.67       12.0   \n",
       "3     Phillip White  42.0         8010.76                0   6.71       10.0   \n",
       "4    Cynthia Norton  37.0         9191.58                0   5.56        9.0   \n",
       "\n",
       "          Onboard_date                                           Location  \\\n",
       "0  2013-08-30 07:00:40      10265 Elizabeth Mission Barkerburgh, AK 89518   \n",
       "1  2013-08-13 00:38:46  6157 Frank Gardens Suite 019 Carloshaven, RI 1...   \n",
       "2  2016-06-29 06:20:07             1331 Keith Court Alyssahaven, DE 90114   \n",
       "3  2014-04-22 12:43:12       13120 Daniel Mount Angelabury, WY 30645-4695   \n",
       "4  2016-01-19 15:31:15                765 Tricia Row Karenshire, MH 71730   \n",
       "\n",
       "                       Company  Churn  \n",
       "0                   Harvey LLC      1  \n",
       "1                   Wilson PLC      1  \n",
       "2  Miller, Johnson and Wallace      1  \n",
       "3                    Smith Inc      1  \n",
       "4                   Love-Jones      1  "
      ]
     },
     "execution_count": 3,
     "metadata": {},
     "output_type": "execute_result"
    }
   ],
   "source": [
    "df.head()"
   ]
  },
  {
   "cell_type": "code",
   "execution_count": 4,
   "id": "274d33e2-f2ad-44ad-aee0-bb154cb2c639",
   "metadata": {},
   "outputs": [
    {
     "data": {
      "text/plain": [
       "Names              0\n",
       "Age                0\n",
       "Total_Purchase     0\n",
       "Account_Manager    0\n",
       "Years              0\n",
       "Num_Sites          0\n",
       "Onboard_date       0\n",
       "Location           0\n",
       "Company            0\n",
       "Churn              0\n",
       "dtype: int64"
      ]
     },
     "execution_count": 4,
     "metadata": {},
     "output_type": "execute_result"
    }
   ],
   "source": [
    "# find nan value\n",
    "df.isnull().sum()"
   ]
  },
  {
   "cell_type": "code",
   "execution_count": 5,
   "id": "aab11caf-471b-4a8f-a4e1-d3c7b0ad6bb7",
   "metadata": {},
   "outputs": [
    {
     "data": {
      "text/plain": [
       "np.int64(0)"
      ]
     },
     "execution_count": 5,
     "metadata": {},
     "output_type": "execute_result"
    }
   ],
   "source": [
    "# Find duplicate values\n",
    "df.duplicated().sum()"
   ]
  },
  {
   "cell_type": "code",
   "execution_count": 6,
   "id": "3e03c23b-35c2-4d52-824c-35af7e4dc366",
   "metadata": {},
   "outputs": [
    {
     "name": "stdout",
     "output_type": "stream",
     "text": [
      "<class 'pandas.core.frame.DataFrame'>\n",
      "RangeIndex: 900 entries, 0 to 899\n",
      "Data columns (total 10 columns):\n",
      " #   Column           Non-Null Count  Dtype  \n",
      "---  ------           --------------  -----  \n",
      " 0   Names            900 non-null    object \n",
      " 1   Age              900 non-null    float64\n",
      " 2   Total_Purchase   900 non-null    float64\n",
      " 3   Account_Manager  900 non-null    int64  \n",
      " 4   Years            900 non-null    float64\n",
      " 5   Num_Sites        900 non-null    float64\n",
      " 6   Onboard_date     900 non-null    object \n",
      " 7   Location         900 non-null    object \n",
      " 8   Company          900 non-null    object \n",
      " 9   Churn            900 non-null    int64  \n",
      "dtypes: float64(4), int64(2), object(4)\n",
      "memory usage: 70.4+ KB\n"
     ]
    }
   ],
   "source": [
    "df.info()"
   ]
  },
  {
   "cell_type": "code",
   "execution_count": 7,
   "id": "70b56cd9-5e09-406c-9504-80e8785a98b1",
   "metadata": {},
   "outputs": [],
   "source": [
    "# transform columns to small later \n",
    "df.columns = df.columns.str.lower()"
   ]
  },
  {
   "cell_type": "code",
   "execution_count": 8,
   "id": "8b8ba15d-e85e-4681-b8db-f28051c44ed5",
   "metadata": {},
   "outputs": [],
   "source": [
    "# transform dtype of onboard_date from object to detetime64[ns]\n",
    "df['onboard_date'] = pd.to_datetime(df['onboard_date'])"
   ]
  },
  {
   "cell_type": "code",
   "execution_count": 9,
   "id": "1bb9485c-b582-44e9-941e-511b3a2f6e51",
   "metadata": {},
   "outputs": [
    {
     "name": "stdout",
     "output_type": "stream",
     "text": [
      "<class 'pandas.core.frame.DataFrame'>\n",
      "RangeIndex: 900 entries, 0 to 899\n",
      "Data columns (total 10 columns):\n",
      " #   Column           Non-Null Count  Dtype         \n",
      "---  ------           --------------  -----         \n",
      " 0   names            900 non-null    object        \n",
      " 1   age              900 non-null    float64       \n",
      " 2   total_purchase   900 non-null    float64       \n",
      " 3   account_manager  900 non-null    int64         \n",
      " 4   years            900 non-null    float64       \n",
      " 5   num_sites        900 non-null    float64       \n",
      " 6   onboard_date     900 non-null    datetime64[ns]\n",
      " 7   location         900 non-null    object        \n",
      " 8   company          900 non-null    object        \n",
      " 9   churn            900 non-null    int64         \n",
      "dtypes: datetime64[ns](1), float64(4), int64(2), object(3)\n",
      "memory usage: 70.4+ KB\n"
     ]
    }
   ],
   "source": [
    "df.info()"
   ]
  },
  {
   "cell_type": "code",
   "execution_count": 10,
   "id": "751726a0-0664-4b57-9b74-7120b873ff93",
   "metadata": {},
   "outputs": [
    {
     "data": {
      "text/html": [
       "<div>\n",
       "<style scoped>\n",
       "    .dataframe tbody tr th:only-of-type {\n",
       "        vertical-align: middle;\n",
       "    }\n",
       "\n",
       "    .dataframe tbody tr th {\n",
       "        vertical-align: top;\n",
       "    }\n",
       "\n",
       "    .dataframe thead th {\n",
       "        text-align: right;\n",
       "    }\n",
       "</style>\n",
       "<table border=\"1\" class=\"dataframe\">\n",
       "  <thead>\n",
       "    <tr style=\"text-align: right;\">\n",
       "      <th></th>\n",
       "      <th>age</th>\n",
       "      <th>total_purchase</th>\n",
       "      <th>account_manager</th>\n",
       "      <th>years</th>\n",
       "      <th>num_sites</th>\n",
       "      <th>onboard_date</th>\n",
       "      <th>churn</th>\n",
       "    </tr>\n",
       "  </thead>\n",
       "  <tbody>\n",
       "    <tr>\n",
       "      <th>count</th>\n",
       "      <td>900.000000</td>\n",
       "      <td>900.000000</td>\n",
       "      <td>900.000000</td>\n",
       "      <td>900.000000</td>\n",
       "      <td>900.000000</td>\n",
       "      <td>900</td>\n",
       "      <td>900.000000</td>\n",
       "    </tr>\n",
       "    <tr>\n",
       "      <th>mean</th>\n",
       "      <td>41.816667</td>\n",
       "      <td>10062.824033</td>\n",
       "      <td>0.481111</td>\n",
       "      <td>5.273156</td>\n",
       "      <td>8.587778</td>\n",
       "      <td>2011-04-11 15:50:48.358888960</td>\n",
       "      <td>0.166667</td>\n",
       "    </tr>\n",
       "    <tr>\n",
       "      <th>min</th>\n",
       "      <td>22.000000</td>\n",
       "      <td>100.000000</td>\n",
       "      <td>0.000000</td>\n",
       "      <td>1.000000</td>\n",
       "      <td>3.000000</td>\n",
       "      <td>2006-01-02 04:16:13</td>\n",
       "      <td>0.000000</td>\n",
       "    </tr>\n",
       "    <tr>\n",
       "      <th>25%</th>\n",
       "      <td>38.000000</td>\n",
       "      <td>8497.122500</td>\n",
       "      <td>0.000000</td>\n",
       "      <td>4.450000</td>\n",
       "      <td>7.000000</td>\n",
       "      <td>2008-05-29 16:43:21.249999872</td>\n",
       "      <td>0.000000</td>\n",
       "    </tr>\n",
       "    <tr>\n",
       "      <th>50%</th>\n",
       "      <td>42.000000</td>\n",
       "      <td>10045.870000</td>\n",
       "      <td>0.000000</td>\n",
       "      <td>5.215000</td>\n",
       "      <td>8.000000</td>\n",
       "      <td>2011-03-09 04:36:26.500000</td>\n",
       "      <td>0.000000</td>\n",
       "    </tr>\n",
       "    <tr>\n",
       "      <th>75%</th>\n",
       "      <td>46.000000</td>\n",
       "      <td>11760.105000</td>\n",
       "      <td>1.000000</td>\n",
       "      <td>6.110000</td>\n",
       "      <td>10.000000</td>\n",
       "      <td>2014-02-15 00:01:16.249999872</td>\n",
       "      <td>0.000000</td>\n",
       "    </tr>\n",
       "    <tr>\n",
       "      <th>max</th>\n",
       "      <td>65.000000</td>\n",
       "      <td>18026.010000</td>\n",
       "      <td>1.000000</td>\n",
       "      <td>9.150000</td>\n",
       "      <td>14.000000</td>\n",
       "      <td>2016-12-28 04:07:38</td>\n",
       "      <td>1.000000</td>\n",
       "    </tr>\n",
       "    <tr>\n",
       "      <th>std</th>\n",
       "      <td>6.127560</td>\n",
       "      <td>2408.644532</td>\n",
       "      <td>0.499921</td>\n",
       "      <td>1.274449</td>\n",
       "      <td>1.764836</td>\n",
       "      <td>NaN</td>\n",
       "      <td>0.372885</td>\n",
       "    </tr>\n",
       "  </tbody>\n",
       "</table>\n",
       "</div>"
      ],
      "text/plain": [
       "              age  total_purchase  account_manager       years   num_sites  \\\n",
       "count  900.000000      900.000000       900.000000  900.000000  900.000000   \n",
       "mean    41.816667    10062.824033         0.481111    5.273156    8.587778   \n",
       "min     22.000000      100.000000         0.000000    1.000000    3.000000   \n",
       "25%     38.000000     8497.122500         0.000000    4.450000    7.000000   \n",
       "50%     42.000000    10045.870000         0.000000    5.215000    8.000000   \n",
       "75%     46.000000    11760.105000         1.000000    6.110000   10.000000   \n",
       "max     65.000000    18026.010000         1.000000    9.150000   14.000000   \n",
       "std      6.127560     2408.644532         0.499921    1.274449    1.764836   \n",
       "\n",
       "                        onboard_date       churn  \n",
       "count                            900  900.000000  \n",
       "mean   2011-04-11 15:50:48.358888960    0.166667  \n",
       "min              2006-01-02 04:16:13    0.000000  \n",
       "25%    2008-05-29 16:43:21.249999872    0.000000  \n",
       "50%       2011-03-09 04:36:26.500000    0.000000  \n",
       "75%    2014-02-15 00:01:16.249999872    0.000000  \n",
       "max              2016-12-28 04:07:38    1.000000  \n",
       "std                              NaN    0.372885  "
      ]
     },
     "execution_count": 10,
     "metadata": {},
     "output_type": "execute_result"
    }
   ],
   "source": [
    "df.describe()"
   ]
  },
  {
   "cell_type": "markdown",
   "id": "202f7101-42cd-40c0-af85-94512b0b95b0",
   "metadata": {},
   "source": [
    "# data analys "
   ]
  },
  {
   "cell_type": "code",
   "execution_count": 11,
   "id": "33cdcf63-2251-4a8c-abbd-08ccb7b77eb2",
   "metadata": {},
   "outputs": [
    {
     "data": {
      "text/html": [
       "<div>\n",
       "<style scoped>\n",
       "    .dataframe tbody tr th:only-of-type {\n",
       "        vertical-align: middle;\n",
       "    }\n",
       "\n",
       "    .dataframe tbody tr th {\n",
       "        vertical-align: top;\n",
       "    }\n",
       "\n",
       "    .dataframe thead th {\n",
       "        text-align: right;\n",
       "    }\n",
       "</style>\n",
       "<table border=\"1\" class=\"dataframe\">\n",
       "  <thead>\n",
       "    <tr style=\"text-align: right;\">\n",
       "      <th></th>\n",
       "      <th>names</th>\n",
       "      <th>age</th>\n",
       "      <th>total_purchase</th>\n",
       "      <th>account_manager</th>\n",
       "      <th>years</th>\n",
       "      <th>num_sites</th>\n",
       "      <th>onboard_date</th>\n",
       "      <th>location</th>\n",
       "      <th>company</th>\n",
       "      <th>churn</th>\n",
       "    </tr>\n",
       "  </thead>\n",
       "  <tbody>\n",
       "    <tr>\n",
       "      <th>0</th>\n",
       "      <td>Cameron Williams</td>\n",
       "      <td>42.0</td>\n",
       "      <td>11066.80</td>\n",
       "      <td>0</td>\n",
       "      <td>7.22</td>\n",
       "      <td>8.0</td>\n",
       "      <td>2013-08-30 07:00:40</td>\n",
       "      <td>10265 Elizabeth Mission Barkerburgh, AK 89518</td>\n",
       "      <td>Harvey LLC</td>\n",
       "      <td>1</td>\n",
       "    </tr>\n",
       "    <tr>\n",
       "      <th>1</th>\n",
       "      <td>Kevin Mueller</td>\n",
       "      <td>41.0</td>\n",
       "      <td>11916.22</td>\n",
       "      <td>0</td>\n",
       "      <td>6.50</td>\n",
       "      <td>11.0</td>\n",
       "      <td>2013-08-13 00:38:46</td>\n",
       "      <td>6157 Frank Gardens Suite 019 Carloshaven, RI 1...</td>\n",
       "      <td>Wilson PLC</td>\n",
       "      <td>1</td>\n",
       "    </tr>\n",
       "    <tr>\n",
       "      <th>2</th>\n",
       "      <td>Eric Lozano</td>\n",
       "      <td>38.0</td>\n",
       "      <td>12884.75</td>\n",
       "      <td>0</td>\n",
       "      <td>6.67</td>\n",
       "      <td>12.0</td>\n",
       "      <td>2016-06-29 06:20:07</td>\n",
       "      <td>1331 Keith Court Alyssahaven, DE 90114</td>\n",
       "      <td>Miller, Johnson and Wallace</td>\n",
       "      <td>1</td>\n",
       "    </tr>\n",
       "    <tr>\n",
       "      <th>3</th>\n",
       "      <td>Phillip White</td>\n",
       "      <td>42.0</td>\n",
       "      <td>8010.76</td>\n",
       "      <td>0</td>\n",
       "      <td>6.71</td>\n",
       "      <td>10.0</td>\n",
       "      <td>2014-04-22 12:43:12</td>\n",
       "      <td>13120 Daniel Mount Angelabury, WY 30645-4695</td>\n",
       "      <td>Smith Inc</td>\n",
       "      <td>1</td>\n",
       "    </tr>\n",
       "    <tr>\n",
       "      <th>4</th>\n",
       "      <td>Cynthia Norton</td>\n",
       "      <td>37.0</td>\n",
       "      <td>9191.58</td>\n",
       "      <td>0</td>\n",
       "      <td>5.56</td>\n",
       "      <td>9.0</td>\n",
       "      <td>2016-01-19 15:31:15</td>\n",
       "      <td>765 Tricia Row Karenshire, MH 71730</td>\n",
       "      <td>Love-Jones</td>\n",
       "      <td>1</td>\n",
       "    </tr>\n",
       "  </tbody>\n",
       "</table>\n",
       "</div>"
      ],
      "text/plain": [
       "              names   age  total_purchase  account_manager  years  num_sites  \\\n",
       "0  Cameron Williams  42.0        11066.80                0   7.22        8.0   \n",
       "1     Kevin Mueller  41.0        11916.22                0   6.50       11.0   \n",
       "2       Eric Lozano  38.0        12884.75                0   6.67       12.0   \n",
       "3     Phillip White  42.0         8010.76                0   6.71       10.0   \n",
       "4    Cynthia Norton  37.0         9191.58                0   5.56        9.0   \n",
       "\n",
       "         onboard_date                                           location  \\\n",
       "0 2013-08-30 07:00:40      10265 Elizabeth Mission Barkerburgh, AK 89518   \n",
       "1 2013-08-13 00:38:46  6157 Frank Gardens Suite 019 Carloshaven, RI 1...   \n",
       "2 2016-06-29 06:20:07             1331 Keith Court Alyssahaven, DE 90114   \n",
       "3 2014-04-22 12:43:12       13120 Daniel Mount Angelabury, WY 30645-4695   \n",
       "4 2016-01-19 15:31:15                765 Tricia Row Karenshire, MH 71730   \n",
       "\n",
       "                       company  churn  \n",
       "0                   Harvey LLC      1  \n",
       "1                   Wilson PLC      1  \n",
       "2  Miller, Johnson and Wallace      1  \n",
       "3                    Smith Inc      1  \n",
       "4                   Love-Jones      1  "
      ]
     },
     "execution_count": 11,
     "metadata": {},
     "output_type": "execute_result"
    }
   ],
   "source": [
    "df.head()"
   ]
  },
  {
   "cell_type": "code",
   "execution_count": 57,
   "id": "369a0e07-db3e-4c15-b0ee-6a2362619a51",
   "metadata": {},
   "outputs": [
    {
     "data": {
      "text/plain": [
       "np.float64(9056541.629999999)"
      ]
     },
     "execution_count": 57,
     "metadata": {},
     "output_type": "execute_result"
    }
   ],
   "source": [
    "df['total_purchase'].sum()"
   ]
  },
  {
   "cell_type": "code",
   "execution_count": 12,
   "id": "a41236b2-3fa3-4eb2-8a93-bb23d5771447",
   "metadata": {},
   "outputs": [
    {
     "data": {
      "image/png": "[encoded data removed]",
      "text/plain": [
       "<Figure size 1400x1000 with 4 Axes>"
      ]
     },
     "metadata": {},
     "output_type": "display_data"
    }
   ],
   "source": [
    "plt.figure(figsize=(14, 10))\n",
    "\n",
    "plt.subplot(2, 2, 1)\n",
    "sns.histplot(df['age'], bins=20, kde=True, color='skyblue')\n",
    "plt.title('Distribution of Age')\n",
    "\n",
    "plt.subplot(2, 2, 2)\n",
    "sns.histplot(df['total_purchase'], bins=20, kde=True, color='salmon')\n",
    "plt.title('Distribution of Total Purchase')\n",
    "\n",
    "plt.subplot(2, 2, 3)\n",
    "sns.histplot(df['years'], bins=20, kde=True, color='lightgreen')\n",
    "plt.title('Distribution of Years')\n",
    "\n",
    "plt.subplot(2, 2, 4)\n",
    "sns.histplot(df['num_sites'], bins=20, kde=True, color='plum')\n",
    "plt.title('Distribution of Number of Sites')\n",
    "\n",
    "plt.tight_layout()\n",
    "\n",
    "# To save the plots as PNG images\n",
    "#plt.savefig('distributions.png')\n",
    "\n",
    "plt.show()\n",
    "\n",
    "# To save the plots in exel sheet\n",
    "#wb = Workbook()\n",
    "#ws = wb.active\n",
    "#ws.title = \"Distributions\"\n",
    "\n",
    "#img = Image(\"distributions.png\")\n",
    "#ws.add_image(img, \"B2\")\n",
    "\n",
    "#wb.save(\"distributions_report.xlsx\")"
   ]
  },
  {
   "cell_type": "code",
   "execution_count": 13,
   "id": "fb3f4ee1-bc1f-4be2-9423-e5b7c7e4959b",
   "metadata": {},
   "outputs": [
    {
     "data": {
      "image/png": "[encoded data removed]",
      "text/plain": [
       "<Figure size 600x400 with 1 Axes>"
      ]
     },
     "metadata": {},
     "output_type": "display_data"
    }
   ],
   "source": [
    "plt.figure(figsize=(6, 4))\n",
    "sns.boxplot(y=df['years'], color='lightblue')\n",
    "plt.title('Box Plot of Years')\n",
    "plt.ylabel('Years')\n",
    "plt.tight_layout()\n",
    "#plt.savefig(\"boxplot_years.png\")  \n",
    "plt.show()\n",
    "\n",
    "\n",
    "q1 = df['years'].quantile(0.25)\n",
    "q2 = df['years'].median()\n",
    "q3 = df['years'].quantile(0.75)\n",
    "mean = df['years'].mean()\n",
    "std = df['years'].std()\n",
    "\n",
    "# Create an Excel sheet and save the plot in it\n",
    "#wb = Workbook()\n",
    "#ws = wb.active\n",
    "#ws.title = \"BoxPlot_Years\"\n",
    "\n",
    "\n",
    "#img = Image(\"boxplot_years.png\")\n",
    "#ws.add_image(img, \"B2\")  \n",
    "\n",
    "#ws[\"D2\"] = \"Statistic\"\n",
    "#ws[\"E2\"] = \"Value\"\n",
    "\n",
    "#ws[\"D3\"] = \"Q1 (25th percentile)\"\n",
    "#ws[\"E3\"] = round(q1, 2)\n",
    "\n",
    "#ws[\"D4\"] = \"Q2 (Median)\"\n",
    "#ws[\"E4\"] = round(q2, 2)\n",
    "\n",
    "#ws[\"D5\"] = \"Q3 (75th percentile)\"\n",
    "#ws[\"E5\"] = round(q3, 2)\n",
    "\n",
    "#ws[\"D6\"] = \"Mean\"\n",
    "#ws[\"E6\"] = round(mean, 2)\n",
    "\n",
    "#ws[\"D7\"] = \"Std Deviation\"\n",
    "#ws[\"E7\"] = round(std, 2)\n",
    "\n",
    "\n",
    "#wb.save(\"boxplot_years_report.xlsx\")"
   ]
  },
  {
   "cell_type": "code",
   "execution_count": 14,
   "id": "3d0aba6b-ea45-4966-8864-a67e812b3912",
   "metadata": {},
   "outputs": [
    {
     "data": {
      "image/png": "[encoded data removed]",
      "text/plain": [
       "<Figure size 600x400 with 1 Axes>"
      ]
     },
     "metadata": {},
     "output_type": "display_data"
    }
   ],
   "source": [
    "# 1. Create the box plot and save it\n",
    "plt.figure(figsize=(6, 4))\n",
    "sns.boxplot(y=df['total_purchase'], color='lightcoral')\n",
    "plt.title('Box Plot of Total Purchase')\n",
    "plt.ylabel('Total Purchase')\n",
    "plt.tight_layout()\n",
    "#plt.savefig(\"boxplot_total_purchase.png\")\n",
    "plt.show()\n",
    "\n",
    "# 2. Calculate key statistics\n",
    "q1 = df['total_purchase'].quantile(0.25)\n",
    "q2 = df['total_purchase'].median()\n",
    "q3 = df['total_purchase'].quantile(0.75)\n",
    "mean = df['total_purchase'].mean()\n",
    "std = df['total_purchase'].std()\n",
    "\n",
    "# 3. Create Excel file and insert image + statistics\n",
    "#wb = Workbook()\n",
    "#ws = wb.active\n",
    "#ws.title = \"TotalPurchase_BoxPlot\"\n",
    "\n",
    "# Insert the box plot image into the Excel sheet\n",
    "#img = Image(\"boxplot_total_purchase.png\")\n",
    "#ws.add_image(img, \"B2\")  # You can change cell location as needed\n",
    "\n",
    "# Add the statistics next to the image\n",
    "#ws[\"D2\"] = \"Statistic\"\n",
    "#ws[\"E2\"] = \"Value\"\n",
    "\n",
    "#ws[\"D3\"] = \"Q1 (25th percentile)\"\n",
    "#ws[\"E3\"] = round(q1, 2)\n",
    "\n",
    "#ws[\"D4\"] = \"Q2 (Median)\"\n",
    "#ws[\"E4\"] = round(q2, 2)\n",
    "\n",
    "#ws[\"D5\"] = \"Q3 (75th percentile)\"\n",
    "#ws[\"E5\"] = round(q3, 2)\n",
    "\n",
    "#ws[\"D6\"] = \"Mean\"\n",
    "#ws[\"E6\"] = round(mean, 2)\n",
    "\n",
    "#ws[\"D7\"] = \"Std Deviation\"\n",
    "#ws[\"E7\"] = round(std, 2)\n",
    "\n",
    "# Save the Excel file\n",
    "#wb.save(\"boxplot_total_purchase_report.xlsx\")"
   ]
  },
  {
   "cell_type": "code",
   "execution_count": 15,
   "id": "f4086b80-3621-4a58-8e06-473dcc143c15",
   "metadata": {},
   "outputs": [
    {
     "data": {
      "image/png": "[encoded data removed]",
      "text/plain": [
       "<Figure size 1200x600 with 2 Axes>"
      ]
     },
     "metadata": {},
     "output_type": "display_data"
    }
   ],
   "source": [
    "# Count the number of occurrences for each value in the two columns\n",
    "account_manager_counts = df['account_manager'].value_counts()\n",
    "churn_counts = df['churn'].value_counts()\n",
    "\n",
    "# Create a figure with 2 pie charts side by side\n",
    "fig, axes = plt.subplots(1, 2, figsize=(12, 6))\n",
    "\n",
    "# Pie chart for 'account_manager' column\n",
    "axes[0].pie(account_manager_counts, \n",
    "            labels=account_manager_counts.index.map({0: 'No Manager', 1: 'Has Manager'}), \n",
    "            autopct='%1.1f%%', \n",
    "            colors=['lightblue', 'orange'], \n",
    "            startangle=90)\n",
    "axes[0].set_title('Account Manager Distribution')\n",
    "\n",
    "# Pie chart for 'churn' column\n",
    "axes[1].pie(churn_counts, \n",
    "            labels=churn_counts.index.map({0: 'No Churn', 1: 'Churn'}), \n",
    "            autopct='%1.1f%%', \n",
    "            colors=['lightgreen', 'lightcoral'], \n",
    "            startangle=90)\n",
    "axes[1].set_title('Churn Distribution')\n",
    "\n",
    "plt.tight_layout()\n",
    "\n",
    "# Save the plot as a PNG image before displaying it\n",
    "#plt.savefig('pie_charts.png')\n",
    "plt.show()\n",
    "\n",
    "# Create a new Excel workbook and add the image\n",
    "#wb = Workbook()\n",
    "#ws = wb.active\n",
    "#ws.title = \"Pie Charts\"\n",
    "\n",
    "#img = Image(\"pie_charts.png\")\n",
    "#ws.add_image(img, \"B2\")\n",
    "\n",
    "# Add a short description below the image\n",
    "#ws[\"B20\"] = \"Pie charts showing the distribution of Account Manager status and Churn.\"\n",
    "\n",
    "# Save the Excel file\n",
    "#wb.save(\"pie_charts_report.xlsx\")"
   ]
  },
  {
   "cell_type": "markdown",
   "id": "c73f00db-87d3-41bd-8536-0945f6de4bab",
   "metadata": {},
   "source": [
    "#### The number of churn cases is much higher than no churn, meaning the data is imbalanced."
   ]
  },
  {
   "cell_type": "code",
   "execution_count": 16,
   "id": "2a0a8449-98dc-4c1b-99fd-a0fc93bbb8f3",
   "metadata": {},
   "outputs": [
    {
     "data": {
      "image/png": "[encoded data removed]",
      "text/plain": [
       "<Figure size 1000x600 with 1 Axes>"
      ]
     },
     "metadata": {},
     "output_type": "display_data"
    }
   ],
   "source": [
    "top_n = 23\n",
    "counts_top = df['company'].value_counts().nlargest(top_n)\n",
    "plt.figure(figsize=(10, 6))\n",
    "counts_top.plot(kind='bar', color='skyblue')\n",
    "plt.xlabel('Company')\n",
    "plt.ylabel('Frequency')\n",
    "plt.title(f'Top {top_n} Companies by Frequency')\n",
    "plt.xticks(rotation=45, ha='right')\n",
    "plt.tight_layout()\n",
    "\n",
    "# Save the plot as PNG\n",
    "#plt.savefig(\"top_companies_bar_chart.png\")\n",
    "plt.show()\n",
    "\n",
    "# Create a new Excel workbook and insert the plot\n",
    "#wb = Workbook()\n",
    "#ws = wb.active\n",
    "#ws.title = \"Top Companies Chart\"\n",
    "\n",
    "#img = Image(\"top_companies_bar_chart.png\")\n",
    "#ws.add_image(img, \"B2\")\n",
    "\n",
    "# Add a description below the image\n",
    "#ws[\"B30\"] = f\"Bar chart showing the top {top_n} companies based on frequency in the dataset.\"\n",
    "\n",
    "# Save the Excel file\n",
    "#wb.save(\"top_companies_report.xlsx\")"
   ]
  },
  {
   "cell_type": "code",
   "execution_count": 17,
   "id": "3dacad11-c7d0-447c-9793-5745fa434a44",
   "metadata": {},
   "outputs": [
    {
     "data": {
      "text/plain": [
       "['Jennifer Wood']"
      ]
     },
     "execution_count": 17,
     "metadata": {},
     "output_type": "execute_result"
    }
   ],
   "source": [
    "# I wanted to check if there is a person who has interacted with us on two different occasions.\n",
    "#  Compute the count of each name\n",
    "name_counts = df['names'].value_counts()\n",
    "#  Select names that appear more than once\n",
    "duplicate_names = name_counts[name_counts > 1].index.tolist()\n",
    "duplicate_names"
   ]
  },
  {
   "cell_type": "code",
   "execution_count": 18,
   "id": "258e3f90-a4eb-4a9f-8b4f-4ce8b50987eb",
   "metadata": {},
   "outputs": [
    {
     "data": {
      "text/html": [
       "<div>\n",
       "<style scoped>\n",
       "    .dataframe tbody tr th:only-of-type {\n",
       "        vertical-align: middle;\n",
       "    }\n",
       "\n",
       "    .dataframe tbody tr th {\n",
       "        vertical-align: top;\n",
       "    }\n",
       "\n",
       "    .dataframe thead th {\n",
       "        text-align: right;\n",
       "    }\n",
       "</style>\n",
       "<table border=\"1\" class=\"dataframe\">\n",
       "  <thead>\n",
       "    <tr style=\"text-align: right;\">\n",
       "      <th></th>\n",
       "      <th>names</th>\n",
       "      <th>age</th>\n",
       "      <th>total_purchase</th>\n",
       "      <th>account_manager</th>\n",
       "      <th>years</th>\n",
       "      <th>num_sites</th>\n",
       "      <th>onboard_date</th>\n",
       "      <th>location</th>\n",
       "      <th>company</th>\n",
       "      <th>churn</th>\n",
       "    </tr>\n",
       "  </thead>\n",
       "  <tbody>\n",
       "    <tr>\n",
       "      <th>22</th>\n",
       "      <td>Jennifer Wood</td>\n",
       "      <td>35.0</td>\n",
       "      <td>9381.12</td>\n",
       "      <td>1</td>\n",
       "      <td>6.78</td>\n",
       "      <td>11.0</td>\n",
       "      <td>2006-03-27 20:52:42</td>\n",
       "      <td>1493 Phillips Haven Lake William, FM 00995-2870</td>\n",
       "      <td>Clark, Campbell and Armstrong</td>\n",
       "      <td>1</td>\n",
       "    </tr>\n",
       "    <tr>\n",
       "      <th>439</th>\n",
       "      <td>Jennifer Wood</td>\n",
       "      <td>48.0</td>\n",
       "      <td>11585.16</td>\n",
       "      <td>0</td>\n",
       "      <td>4.61</td>\n",
       "      <td>9.0</td>\n",
       "      <td>2012-03-13 03:24:04</td>\n",
       "      <td>Unit 5568 Box 1967 DPO AE 15638</td>\n",
       "      <td>Gray, Campbell and Chandler</td>\n",
       "      <td>0</td>\n",
       "    </tr>\n",
       "  </tbody>\n",
       "</table>\n",
       "</div>"
      ],
      "text/plain": [
       "             names   age  total_purchase  account_manager  years  num_sites  \\\n",
       "22   Jennifer Wood  35.0         9381.12                1   6.78       11.0   \n",
       "439  Jennifer Wood  48.0        11585.16                0   4.61        9.0   \n",
       "\n",
       "           onboard_date                                         location  \\\n",
       "22  2006-03-27 20:52:42  1493 Phillips Haven Lake William, FM 00995-2870   \n",
       "439 2012-03-13 03:24:04                  Unit 5568 Box 1967 DPO AE 15638   \n",
       "\n",
       "                           company  churn  \n",
       "22   Clark, Campbell and Armstrong      1  \n",
       "439    Gray, Campbell and Chandler      0  "
      ]
     },
     "execution_count": 18,
     "metadata": {},
     "output_type": "execute_result"
    }
   ],
   "source": [
    "df[df['names'] == 'Jennifer Wood']"
   ]
  },
  {
   "cell_type": "markdown",
   "id": "409e9dda-f6c7-4994-97c5-25739cce6244",
   "metadata": {},
   "source": [
    "#### If we look closely at the age, it doesn't seem to be the same person(ven if it's the same person, it won't affect the machine learning training)\n"
   ]
  },
  {
   "cell_type": "code",
   "execution_count": 19,
   "id": "9e15c2aa-a65e-402f-9972-99bb3415de0e",
   "metadata": {},
   "outputs": [
    {
     "data": {
      "text/html": [
       "<div>\n",
       "<style scoped>\n",
       "    .dataframe tbody tr th:only-of-type {\n",
       "        vertical-align: middle;\n",
       "    }\n",
       "\n",
       "    .dataframe tbody tr th {\n",
       "        vertical-align: top;\n",
       "    }\n",
       "\n",
       "    .dataframe thead th {\n",
       "        text-align: right;\n",
       "    }\n",
       "</style>\n",
       "<table border=\"1\" class=\"dataframe\">\n",
       "  <thead>\n",
       "    <tr style=\"text-align: right;\">\n",
       "      <th></th>\n",
       "      <th>names</th>\n",
       "      <th>age</th>\n",
       "      <th>total_purchase</th>\n",
       "      <th>account_manager</th>\n",
       "      <th>years</th>\n",
       "      <th>num_sites</th>\n",
       "      <th>onboard_date</th>\n",
       "      <th>location</th>\n",
       "      <th>company</th>\n",
       "      <th>churn</th>\n",
       "    </tr>\n",
       "  </thead>\n",
       "  <tbody>\n",
       "    <tr>\n",
       "      <th>842</th>\n",
       "      <td>Ethan Cordova</td>\n",
       "      <td>39.0</td>\n",
       "      <td>18026.01</td>\n",
       "      <td>1</td>\n",
       "      <td>3.82</td>\n",
       "      <td>9.0</td>\n",
       "      <td>2016-02-28 07:42:24</td>\n",
       "      <td>482 Wells Mountain New Jason, AL 66002</td>\n",
       "      <td>Scott PLC</td>\n",
       "      <td>0</td>\n",
       "    </tr>\n",
       "  </tbody>\n",
       "</table>\n",
       "</div>"
      ],
      "text/plain": [
       "             names   age  total_purchase  account_manager  years  num_sites  \\\n",
       "842  Ethan Cordova  39.0        18026.01                1   3.82        9.0   \n",
       "\n",
       "           onboard_date                                location    company  \\\n",
       "842 2016-02-28 07:42:24  482 Wells Mountain New Jason, AL 66002  Scott PLC   \n",
       "\n",
       "     churn  \n",
       "842      0  "
      ]
     },
     "execution_count": 19,
     "metadata": {},
     "output_type": "execute_result"
    }
   ],
   "source": [
    "# Information about the person who spent the most.\n",
    "df[df['total_purchase'] == df['total_purchase'].max()]"
   ]
  },
  {
   "cell_type": "code",
   "execution_count": 20,
   "id": "aac0cf78-7cfe-4f1c-9b6e-7292049803e5",
   "metadata": {},
   "outputs": [
    {
     "data": {
      "text/html": [
       "<div>\n",
       "<style scoped>\n",
       "    .dataframe tbody tr th:only-of-type {\n",
       "        vertical-align: middle;\n",
       "    }\n",
       "\n",
       "    .dataframe tbody tr th {\n",
       "        vertical-align: top;\n",
       "    }\n",
       "\n",
       "    .dataframe thead th {\n",
       "        text-align: right;\n",
       "    }\n",
       "</style>\n",
       "<table border=\"1\" class=\"dataframe\">\n",
       "  <thead>\n",
       "    <tr style=\"text-align: right;\">\n",
       "      <th></th>\n",
       "      <th>names</th>\n",
       "      <th>age</th>\n",
       "      <th>total_purchase</th>\n",
       "      <th>account_manager</th>\n",
       "      <th>years</th>\n",
       "      <th>num_sites</th>\n",
       "      <th>onboard_date</th>\n",
       "      <th>location</th>\n",
       "      <th>company</th>\n",
       "      <th>churn</th>\n",
       "    </tr>\n",
       "  </thead>\n",
       "  <tbody>\n",
       "    <tr>\n",
       "      <th>659</th>\n",
       "      <td>Kayla Reeves</td>\n",
       "      <td>38.0</td>\n",
       "      <td>100.0</td>\n",
       "      <td>0</td>\n",
       "      <td>5.27</td>\n",
       "      <td>5.0</td>\n",
       "      <td>2006-10-03 09:01:48</td>\n",
       "      <td>1511 Porter Drive Amberberg, NC 44608</td>\n",
       "      <td>Stewart-Lopez</td>\n",
       "      <td>0</td>\n",
       "    </tr>\n",
       "  </tbody>\n",
       "</table>\n",
       "</div>"
      ],
      "text/plain": [
       "            names   age  total_purchase  account_manager  years  num_sites  \\\n",
       "659  Kayla Reeves  38.0           100.0                0   5.27        5.0   \n",
       "\n",
       "           onboard_date                               location        company  \\\n",
       "659 2006-10-03 09:01:48  1511 Porter Drive Amberberg, NC 44608  Stewart-Lopez   \n",
       "\n",
       "     churn  \n",
       "659      0  "
      ]
     },
     "execution_count": 20,
     "metadata": {},
     "output_type": "execute_result"
    }
   ],
   "source": [
    "# Information about the person who spent the least.\n",
    "df[df['total_purchase'] == df['total_purchase'].min()]"
   ]
  },
  {
   "cell_type": "code",
   "execution_count": 21,
   "id": "b3d02d54-41ef-4b55-93d1-a38b7ec6d4ad",
   "metadata": {},
   "outputs": [
    {
     "data": {
      "text/html": [
       "<div>\n",
       "<style scoped>\n",
       "    .dataframe tbody tr th:only-of-type {\n",
       "        vertical-align: middle;\n",
       "    }\n",
       "\n",
       "    .dataframe tbody tr th {\n",
       "        vertical-align: top;\n",
       "    }\n",
       "\n",
       "    .dataframe thead th {\n",
       "        text-align: right;\n",
       "    }\n",
       "</style>\n",
       "<table border=\"1\" class=\"dataframe\">\n",
       "  <thead>\n",
       "    <tr style=\"text-align: right;\">\n",
       "      <th></th>\n",
       "      <th>names</th>\n",
       "      <th>age</th>\n",
       "      <th>total_purchase</th>\n",
       "      <th>account_manager</th>\n",
       "      <th>years</th>\n",
       "      <th>num_sites</th>\n",
       "      <th>onboard_date</th>\n",
       "      <th>location</th>\n",
       "      <th>company</th>\n",
       "      <th>churn</th>\n",
       "    </tr>\n",
       "  </thead>\n",
       "  <tbody>\n",
       "    <tr>\n",
       "      <th>59</th>\n",
       "      <td>Daniel Bartlett</td>\n",
       "      <td>45.0</td>\n",
       "      <td>6749.49</td>\n",
       "      <td>0</td>\n",
       "      <td>5.88</td>\n",
       "      <td>14.0</td>\n",
       "      <td>2006-08-19 17:13:19</td>\n",
       "      <td>353 Gregory Spur Mariaburgh, KY 66125</td>\n",
       "      <td>Owens Group</td>\n",
       "      <td>1</td>\n",
       "    </tr>\n",
       "    <tr>\n",
       "      <th>91</th>\n",
       "      <td>Brian Young</td>\n",
       "      <td>49.0</td>\n",
       "      <td>10522.21</td>\n",
       "      <td>0</td>\n",
       "      <td>7.25</td>\n",
       "      <td>14.0</td>\n",
       "      <td>2014-11-08 00:40:36</td>\n",
       "      <td>Unit 6711 Box 7964 DPO AA 27820</td>\n",
       "      <td>Munoz Ltd</td>\n",
       "      <td>1</td>\n",
       "    </tr>\n",
       "    <tr>\n",
       "      <th>105</th>\n",
       "      <td>Eric Kelley</td>\n",
       "      <td>43.0</td>\n",
       "      <td>10271.19</td>\n",
       "      <td>1</td>\n",
       "      <td>5.31</td>\n",
       "      <td>14.0</td>\n",
       "      <td>2011-07-19 10:28:53</td>\n",
       "      <td>98472 Meghan Mall Port Lauren, LA 49472</td>\n",
       "      <td>Santos, Hoffman and Harper</td>\n",
       "      <td>1</td>\n",
       "    </tr>\n",
       "    <tr>\n",
       "      <th>112</th>\n",
       "      <td>Katie Sutton</td>\n",
       "      <td>40.0</td>\n",
       "      <td>11611.51</td>\n",
       "      <td>1</td>\n",
       "      <td>5.64</td>\n",
       "      <td>14.0</td>\n",
       "      <td>2010-06-19 16:02:16</td>\n",
       "      <td>564 Amanda Park Apt. 388 Watsonport, NJ 61471-...</td>\n",
       "      <td>Patrick Inc</td>\n",
       "      <td>1</td>\n",
       "    </tr>\n",
       "    <tr>\n",
       "      <th>130</th>\n",
       "      <td>Douglas Joseph</td>\n",
       "      <td>44.0</td>\n",
       "      <td>8474.11</td>\n",
       "      <td>0</td>\n",
       "      <td>6.61</td>\n",
       "      <td>14.0</td>\n",
       "      <td>2012-10-01 08:10:23</td>\n",
       "      <td>Unit 9630 Box 8710 DPO AP 69319</td>\n",
       "      <td>Clark PLC</td>\n",
       "      <td>1</td>\n",
       "    </tr>\n",
       "    <tr>\n",
       "      <th>186</th>\n",
       "      <td>James Contreras</td>\n",
       "      <td>46.0</td>\n",
       "      <td>11119.11</td>\n",
       "      <td>1</td>\n",
       "      <td>3.51</td>\n",
       "      <td>14.0</td>\n",
       "      <td>2008-12-08 09:23:02</td>\n",
       "      <td>10454 David Greens South Jenniferbury, FM 8728...</td>\n",
       "      <td>Taylor-Robbins</td>\n",
       "      <td>0</td>\n",
       "    </tr>\n",
       "  </tbody>\n",
       "</table>\n",
       "</div>"
      ],
      "text/plain": [
       "               names   age  total_purchase  account_manager  years  num_sites  \\\n",
       "59   Daniel Bartlett  45.0         6749.49                0   5.88       14.0   \n",
       "91       Brian Young  49.0        10522.21                0   7.25       14.0   \n",
       "105      Eric Kelley  43.0        10271.19                1   5.31       14.0   \n",
       "112     Katie Sutton  40.0        11611.51                1   5.64       14.0   \n",
       "130   Douglas Joseph  44.0         8474.11                0   6.61       14.0   \n",
       "186  James Contreras  46.0        11119.11                1   3.51       14.0   \n",
       "\n",
       "           onboard_date                                           location  \\\n",
       "59  2006-08-19 17:13:19              353 Gregory Spur Mariaburgh, KY 66125   \n",
       "91  2014-11-08 00:40:36                    Unit 6711 Box 7964 DPO AA 27820   \n",
       "105 2011-07-19 10:28:53            98472 Meghan Mall Port Lauren, LA 49472   \n",
       "112 2010-06-19 16:02:16  564 Amanda Park Apt. 388 Watsonport, NJ 61471-...   \n",
       "130 2012-10-01 08:10:23                    Unit 9630 Box 8710 DPO AP 69319   \n",
       "186 2008-12-08 09:23:02  10454 David Greens South Jenniferbury, FM 8728...   \n",
       "\n",
       "                        company  churn  \n",
       "59                  Owens Group      1  \n",
       "91                    Munoz Ltd      1  \n",
       "105  Santos, Hoffman and Harper      1  \n",
       "112                 Patrick Inc      1  \n",
       "130                   Clark PLC      1  \n",
       "186              Taylor-Robbins      0  "
      ]
     },
     "execution_count": 21,
     "metadata": {},
     "output_type": "execute_result"
    }
   ],
   "source": [
    "# Information about the people with the highest number of sites.\n",
    "df[df['num_sites'] == df['num_sites'].max()]"
   ]
  },
  {
   "cell_type": "code",
   "execution_count": 22,
   "id": "c532aa46-b509-4382-82ab-1fb63ceb1801",
   "metadata": {},
   "outputs": [
    {
     "data": {
      "text/html": [
       "<div>\n",
       "<style scoped>\n",
       "    .dataframe tbody tr th:only-of-type {\n",
       "        vertical-align: middle;\n",
       "    }\n",
       "\n",
       "    .dataframe tbody tr th {\n",
       "        vertical-align: top;\n",
       "    }\n",
       "\n",
       "    .dataframe thead th {\n",
       "        text-align: right;\n",
       "    }\n",
       "</style>\n",
       "<table border=\"1\" class=\"dataframe\">\n",
       "  <thead>\n",
       "    <tr style=\"text-align: right;\">\n",
       "      <th></th>\n",
       "      <th>names</th>\n",
       "      <th>age</th>\n",
       "      <th>total_purchase</th>\n",
       "      <th>account_manager</th>\n",
       "      <th>years</th>\n",
       "      <th>num_sites</th>\n",
       "      <th>onboard_date</th>\n",
       "      <th>location</th>\n",
       "      <th>company</th>\n",
       "      <th>churn</th>\n",
       "    </tr>\n",
       "  </thead>\n",
       "  <tbody>\n",
       "    <tr>\n",
       "      <th>283</th>\n",
       "      <td>Regina Kirby</td>\n",
       "      <td>41.0</td>\n",
       "      <td>10921.54</td>\n",
       "      <td>0</td>\n",
       "      <td>5.07</td>\n",
       "      <td>3.0</td>\n",
       "      <td>2015-09-04 11:32:49</td>\n",
       "      <td>310 Amy Underpass Suite 089 Lake Kevin, DC 231...</td>\n",
       "      <td>Schaefer-Berry</td>\n",
       "      <td>0</td>\n",
       "    </tr>\n",
       "    <tr>\n",
       "      <th>829</th>\n",
       "      <td>James Stevens</td>\n",
       "      <td>44.0</td>\n",
       "      <td>12400.33</td>\n",
       "      <td>1</td>\n",
       "      <td>5.18</td>\n",
       "      <td>3.0</td>\n",
       "      <td>2007-07-18 07:06:46</td>\n",
       "      <td>USNV Johnson FPO AA 53865-7362</td>\n",
       "      <td>Sims-Cole</td>\n",
       "      <td>0</td>\n",
       "    </tr>\n",
       "  </tbody>\n",
       "</table>\n",
       "</div>"
      ],
      "text/plain": [
       "             names   age  total_purchase  account_manager  years  num_sites  \\\n",
       "283   Regina Kirby  41.0        10921.54                0   5.07        3.0   \n",
       "829  James Stevens  44.0        12400.33                1   5.18        3.0   \n",
       "\n",
       "           onboard_date                                           location  \\\n",
       "283 2015-09-04 11:32:49  310 Amy Underpass Suite 089 Lake Kevin, DC 231...   \n",
       "829 2007-07-18 07:06:46                     USNV Johnson FPO AA 53865-7362   \n",
       "\n",
       "            company  churn  \n",
       "283  Schaefer-Berry      0  \n",
       "829       Sims-Cole      0  "
      ]
     },
     "execution_count": 22,
     "metadata": {},
     "output_type": "execute_result"
    }
   ],
   "source": [
    "# Information about the people with the lowest number of sites.\n",
    "df[df['num_sites'] == df['num_sites'].min()]"
   ]
  },
  {
   "cell_type": "code",
   "execution_count": 23,
   "id": "fc72c21b-f528-4842-8dc3-4b75298f2284",
   "metadata": {},
   "outputs": [
    {
     "data": {
      "text/plain": [
       "873"
      ]
     },
     "execution_count": 23,
     "metadata": {},
     "output_type": "execute_result"
    }
   ],
   "source": [
    "df['company'].nunique()"
   ]
  },
  {
   "cell_type": "code",
   "execution_count": 24,
   "id": "1724f2b7-d3de-40f8-a24e-0e6d81cd8db5",
   "metadata": {},
   "outputs": [
    {
     "data": {
      "text/plain": [
       "900"
      ]
     },
     "execution_count": 24,
     "metadata": {},
     "output_type": "execute_result"
    }
   ],
   "source": [
    "df['location'].nunique()"
   ]
  },
  {
   "cell_type": "markdown",
   "id": "997290c1-5488-4c67-91aa-2970994a8db6",
   "metadata": {},
   "source": [
    "<h2 class=\"demoTitle\">&nbsp;&nbsp;<span style=\"color: #ff0000;\"><strong>Analyze data of the person who churned</strong></span></h2>\n"
   ]
  },
  {
   "cell_type": "code",
   "execution_count": 25,
   "id": "f6f725bf-7908-43ac-927c-d90afec09052",
   "metadata": {},
   "outputs": [],
   "source": [
    "churn1 = df[df['churn'] == 1]"
   ]
  },
  {
   "cell_type": "code",
   "execution_count": null,
   "id": "61f6b21e-70e5-44d1-8be3-326a2bf287a1",
   "metadata": {},
   "outputs": [],
   "source": []
  },
  {
   "cell_type": "code",
   "execution_count": 26,
   "id": "60f4dbe0-296b-43eb-8756-58169fe57ba0",
   "metadata": {},
   "outputs": [
    {
     "data": {
      "text/html": [
       "<div>\n",
       "<style scoped>\n",
       "    .dataframe tbody tr th:only-of-type {\n",
       "        vertical-align: middle;\n",
       "    }\n",
       "\n",
       "    .dataframe tbody tr th {\n",
       "        vertical-align: top;\n",
       "    }\n",
       "\n",
       "    .dataframe thead th {\n",
       "        text-align: right;\n",
       "    }\n",
       "</style>\n",
       "<table border=\"1\" class=\"dataframe\">\n",
       "  <thead>\n",
       "    <tr style=\"text-align: right;\">\n",
       "      <th></th>\n",
       "      <th>names</th>\n",
       "      <th>age</th>\n",
       "      <th>total_purchase</th>\n",
       "      <th>account_manager</th>\n",
       "      <th>years</th>\n",
       "      <th>num_sites</th>\n",
       "      <th>onboard_date</th>\n",
       "      <th>location</th>\n",
       "      <th>company</th>\n",
       "      <th>churn</th>\n",
       "    </tr>\n",
       "  </thead>\n",
       "  <tbody>\n",
       "    <tr>\n",
       "      <th>0</th>\n",
       "      <td>Cameron Williams</td>\n",
       "      <td>42.0</td>\n",
       "      <td>11066.80</td>\n",
       "      <td>0</td>\n",
       "      <td>7.22</td>\n",
       "      <td>8.0</td>\n",
       "      <td>2013-08-30 07:00:40</td>\n",
       "      <td>10265 Elizabeth Mission Barkerburgh, AK 89518</td>\n",
       "      <td>Harvey LLC</td>\n",
       "      <td>1</td>\n",
       "    </tr>\n",
       "    <tr>\n",
       "      <th>1</th>\n",
       "      <td>Kevin Mueller</td>\n",
       "      <td>41.0</td>\n",
       "      <td>11916.22</td>\n",
       "      <td>0</td>\n",
       "      <td>6.50</td>\n",
       "      <td>11.0</td>\n",
       "      <td>2013-08-13 00:38:46</td>\n",
       "      <td>6157 Frank Gardens Suite 019 Carloshaven, RI 1...</td>\n",
       "      <td>Wilson PLC</td>\n",
       "      <td>1</td>\n",
       "    </tr>\n",
       "    <tr>\n",
       "      <th>2</th>\n",
       "      <td>Eric Lozano</td>\n",
       "      <td>38.0</td>\n",
       "      <td>12884.75</td>\n",
       "      <td>0</td>\n",
       "      <td>6.67</td>\n",
       "      <td>12.0</td>\n",
       "      <td>2016-06-29 06:20:07</td>\n",
       "      <td>1331 Keith Court Alyssahaven, DE 90114</td>\n",
       "      <td>Miller, Johnson and Wallace</td>\n",
       "      <td>1</td>\n",
       "    </tr>\n",
       "    <tr>\n",
       "      <th>3</th>\n",
       "      <td>Phillip White</td>\n",
       "      <td>42.0</td>\n",
       "      <td>8010.76</td>\n",
       "      <td>0</td>\n",
       "      <td>6.71</td>\n",
       "      <td>10.0</td>\n",
       "      <td>2014-04-22 12:43:12</td>\n",
       "      <td>13120 Daniel Mount Angelabury, WY 30645-4695</td>\n",
       "      <td>Smith Inc</td>\n",
       "      <td>1</td>\n",
       "    </tr>\n",
       "    <tr>\n",
       "      <th>4</th>\n",
       "      <td>Cynthia Norton</td>\n",
       "      <td>37.0</td>\n",
       "      <td>9191.58</td>\n",
       "      <td>0</td>\n",
       "      <td>5.56</td>\n",
       "      <td>9.0</td>\n",
       "      <td>2016-01-19 15:31:15</td>\n",
       "      <td>765 Tricia Row Karenshire, MH 71730</td>\n",
       "      <td>Love-Jones</td>\n",
       "      <td>1</td>\n",
       "    </tr>\n",
       "  </tbody>\n",
       "</table>\n",
       "</div>"
      ],
      "text/plain": [
       "              names   age  total_purchase  account_manager  years  num_sites  \\\n",
       "0  Cameron Williams  42.0        11066.80                0   7.22        8.0   \n",
       "1     Kevin Mueller  41.0        11916.22                0   6.50       11.0   \n",
       "2       Eric Lozano  38.0        12884.75                0   6.67       12.0   \n",
       "3     Phillip White  42.0         8010.76                0   6.71       10.0   \n",
       "4    Cynthia Norton  37.0         9191.58                0   5.56        9.0   \n",
       "\n",
       "         onboard_date                                           location  \\\n",
       "0 2013-08-30 07:00:40      10265 Elizabeth Mission Barkerburgh, AK 89518   \n",
       "1 2013-08-13 00:38:46  6157 Frank Gardens Suite 019 Carloshaven, RI 1...   \n",
       "2 2016-06-29 06:20:07             1331 Keith Court Alyssahaven, DE 90114   \n",
       "3 2014-04-22 12:43:12       13120 Daniel Mount Angelabury, WY 30645-4695   \n",
       "4 2016-01-19 15:31:15                765 Tricia Row Karenshire, MH 71730   \n",
       "\n",
       "                       company  churn  \n",
       "0                   Harvey LLC      1  \n",
       "1                   Wilson PLC      1  \n",
       "2  Miller, Johnson and Wallace      1  \n",
       "3                    Smith Inc      1  \n",
       "4                   Love-Jones      1  "
      ]
     },
     "execution_count": 26,
     "metadata": {},
     "output_type": "execute_result"
    }
   ],
   "source": [
    "df.head()"
   ]
  },
  {
   "cell_type": "code",
   "execution_count": 27,
   "id": "a65bee77-a8ea-46eb-949a-9e1e82993fc9",
   "metadata": {},
   "outputs": [
    {
     "data": {
      "image/png": "[encoded data removed]",
      "text/plain": [
       "<Figure size 1200x500 with 2 Axes>"
      ]
     },
     "metadata": {},
     "output_type": "display_data"
    }
   ],
   "source": [
    "plt.figure(figsize=(12, 5))\n",
    "\n",
    "plt.subplot(1, 2, 1)\n",
    "sns.histplot(churn1['total_purchase'], kde=True, color='skyblue')\n",
    "plt.title('Distribution of Total Purchase for customer who churned')\n",
    "\n",
    "plt.subplot(1, 2, 2)\n",
    "sns.histplot(churn1['years'], kde=True, color='salmon')\n",
    "plt.title('Distribution of Yearsfor customer who churned')\n",
    "\n",
    "plt.tight_layout()\n",
    "\n",
    "# Save the plot as PNG\n",
    "#plt.savefig(\"churn1_distributions.png\")\n",
    "plt.show()\n",
    "\n",
    "# Create Excel workbook and insert the plot\n",
    "#wb = Workbook()\n",
    "#ws = wb.active\n",
    "#ws.title = \"Churn1 Distributions\"\n",
    "\n",
    "#img = Image(\"churn1_distributions.png\")\n",
    "#ws.add_image(img, \"B2\")\n",
    "\n",
    "# Add description\n",
    "#ws[\"B20\"] = \"Histograms of Total Purchase and Years for customers with churn=1.\"\n",
    "\n",
    "# Save the Excel file\n",
    "#wb.save(\"churn1_distributions_report.xlsx\")"
   ]
  },
  {
   "cell_type": "code",
   "execution_count": 28,
   "id": "08e9f401-1e45-425b-8c85-e10e16065f27",
   "metadata": {},
   "outputs": [
    {
     "data": {
      "image/png": "[encoded data removed]",
      "text/plain": [
       "<Figure size 600x400 with 1 Axes>"
      ]
     },
     "metadata": {},
     "output_type": "display_data"
    }
   ],
   "source": [
    "plt.figure(figsize=(6, 4))\n",
    "sns.boxplot(x=churn1['years'], color='lightblue')\n",
    "plt.title('Box Plot of Years (Churn = 1)')\n",
    "plt.xlabel('Years')\n",
    "plt.tight_layout()\n",
    "#plt.savefig(\"boxplot_years_churn1.png\")\n",
    "plt.show()\n",
    "\n",
    "# Calculate statistics\n",
    "q1 = churn1['years'].quantile(0.25)\n",
    "q2 = churn1['years'].quantile(0.50)  # or use median()\n",
    "q3 = churn1['years'].quantile(0.75)\n",
    "mean = churn1['years'].mean()\n",
    "median = churn1['years'].median()\n",
    "std = churn1['years'].std()\n",
    "\n",
    "# Create Excel workbook\n",
    "#wb = Workbook()\n",
    "#ws = wb.active\n",
    "#ws.title = \"BoxPlot_Years_Churn1\"\n",
    "\n",
    "# Insert the image\n",
    "#img = Image(\"boxplot_years_churn1.png\")\n",
    "#ws.add_image(img, \"B2\")\n",
    "\n",
    "# Add statistics next to the plot\n",
    "#ws[\"D2\"] = \"Statistic\"\n",
    "#ws[\"E2\"] = \"Value\"\n",
    "\n",
    "#ws[\"D3\"] = \"Q1 (25%)\"\n",
    "#ws[\"E3\"] = round(q1, 2)\n",
    "\n",
    "#ws[\"D4\"] = \"Q2 (Median - 50%)\"\n",
    "#ws[\"E4\"] = round(q2, 2)\n",
    "\n",
    "#ws[\"D5\"] = \"Q3 (75%)\"\n",
    "#ws[\"E5\"] = round(q3, 2)\n",
    "\n",
    "#ws[\"D6\"] = \"Mean\"\n",
    "#ws[\"E6\"] = round(mean, 2)\n",
    "\n",
    "#ws[\"D7\"] = \"Standard Deviation\"\n",
    "#ws[\"E7\"] = round(std, 2)\n",
    "\n",
    "# Save Excel file\n",
    "#wb.save(\"boxplot_years_churn1_report.xlsx\")"
   ]
  },
  {
   "cell_type": "code",
   "execution_count": 29,
   "id": "9b7dcb12-a82b-41a1-8801-7ff59f0dc28c",
   "metadata": {},
   "outputs": [
    {
     "data": {
      "image/png": "[encoded data removed]",
      "text/plain": [
       "<Figure size 600x400 with 1 Axes>"
      ]
     },
     "metadata": {},
     "output_type": "display_data"
    }
   ],
   "source": [
    "plt.figure(figsize=(6, 4))\n",
    "sns.boxplot(x=churn1['total_purchase'], color='lightgreen')\n",
    "plt.title('Box Plot of Total Purchase (Churn = 1)')\n",
    "plt.xlabel('Total Purchase')\n",
    "plt.tight_layout()\n",
    "#plt.savefig(\"boxplot_total_purchase_churn1.png\")\n",
    "plt.show()\n",
    "\n",
    "# Calculate statistics\n",
    "q1 = churn1['total_purchase'].quantile(0.25)\n",
    "q2 = churn1['total_purchase'].quantile(0.50)  # Median\n",
    "q3 = churn1['total_purchase'].quantile(0.75)\n",
    "mean = churn1['total_purchase'].mean()\n",
    "median = churn1['total_purchase'].median()\n",
    "std = churn1['total_purchase'].std()\n",
    "\n",
    "# Create an Excel workbook and worksheet\n",
    "#wb = Workbook()\n",
    "#ws = wb.active\n",
    "#ws.title = \"BoxPlot_Purchase_Churn1\"\n",
    "\n",
    "# Insert the image\n",
    "#img = Image(\"boxplot_total_purchase_churn1.png\")\n",
    "#ws.add_image(img, \"B2\")\n",
    "\n",
    "# Write summary statistics\n",
    "#ws[\"D2\"] = \"Statistic\"\n",
    "#ws[\"E2\"] = \"Value\"\n",
    "\n",
    "#ws[\"D3\"] = \"Q1 (25%)\"\n",
    "#ws[\"E3\"] = round(q1, 2)\n",
    "\n",
    "#ws[\"D4\"] = \"Q2 (Median - 50%)\"\n",
    "#ws[\"E4\"] = round(q2, 2)\n",
    "\n",
    "#ws[\"D5\"] = \"Q3 (75%)\"\n",
    "#ws[\"E5\"] = round(q3, 2)\n",
    "\n",
    "#ws[\"D6\"] = \"Mean\"\n",
    "#ws[\"E6\"] = round(mean, 2)\n",
    "\n",
    "#ws[\"D7\"] = \"Standard Deviation\"\n",
    "#ws[\"E7\"] = round(std, 2)\n",
    "\n",
    "# Save the Excel file\n",
    "#wb.save(\"boxplot_total_purchase_churn1_report.xlsx\")"
   ]
  },
  {
   "cell_type": "code",
   "execution_count": null,
   "id": "7c817a56-40ac-45cb-ae3e-be9db4923b68",
   "metadata": {},
   "outputs": [],
   "source": []
  },
  {
   "cell_type": "code",
   "execution_count": 30,
   "id": "e8ec55ac-0c30-4fa6-9429-87fdcd43b8a2",
   "metadata": {},
   "outputs": [
    {
     "data": {
      "image/png": "[encoded data removed]",
      "text/plain": [
       "<Figure size 1000x600 with 2 Axes>"
      ]
     },
     "metadata": {},
     "output_type": "display_data"
    }
   ],
   "source": [
    "# Compute the correlation matrix\n",
    "correlation_matrix = df.corr(numeric_only=True)\n",
    "\n",
    "# Plot the heatmap\n",
    "plt.figure(figsize=(10, 6))\n",
    "sns.heatmap(correlation_matrix, annot=True, cmap='coolwarm', fmt='.2f', linewidths=0.5)\n",
    "plt.title('Correlation Heatmap of Numerical Columns')\n",
    "plt.tight_layout()\n",
    "#plt.savefig(\"correlation_heatmap.png\")\n",
    "plt.show()\n",
    "\n",
    "# Create an Excel workbook and insert the heatmap\n",
    "#wb = Workbook()\n",
    "#ws = wb.active\n",
    "#ws.title = \"Correlation Heatmap\"\n",
    "\n",
    "#img = Image(\"correlation_heatmap.png\")\n",
    "#ws.add_image(img, \"B2\")\n",
    "\n",
    "# Optional: Add description\n",
    "#ws[\"B20\"] = \"This heatmap shows the Pearson correlation coefficients between numerical columns in the dataset.\"\n",
    "\n",
    "# Save the Excel file\n",
    "#wb.save(\"correlation_heatmap_report.xlsx\")"
   ]
  },
  {
   "cell_type": "markdown",
   "id": "d7a0eb5b-6d8e-4026-b244-d643475b2d66",
   "metadata": {},
   "source": [
    "# learn machin"
   ]
  },
  {
   "cell_type": "code",
   "execution_count": 31,
   "id": "9c51f24a-5e9a-48ed-9429-54208295fd5e",
   "metadata": {},
   "outputs": [],
   "source": [
    "from sklearn.preprocessing import StandardScaler\n",
    "from sklearn.preprocessing import MinMaxScaler\n",
    "\n",
    "from sklearn.linear_model import LogisticRegression\n",
    "from sklearn.ensemble import RandomForestClassifier\n",
    "from sklearn.ensemble import GradientBoostingClassifier\n",
    "from sklearn.neighbors import KNeighborsClassifier\n",
    "from sklearn.svm import SVC\n",
    "from sklearn.model_selection import RandomizedSearchCV\n",
    "from imblearn.over_sampling import SMOTE\n",
    "from sklearn.model_selection import train_test_split\n",
    "\n",
    "from sklearn.metrics import accuracy_score , recall_score , f1_score\n",
    "from sklearn.metrics import confusion_matrix\n",
    "from sklearn.metrics import mean_squared_error\n",
    "from sklearn.model_selection import GridSearchCV\n",
    "from sklearn.metrics import classification_report"
   ]
  },
  {
   "cell_type": "code",
   "execution_count": 32,
   "id": "2b10bb6d-f4e5-4701-abec-5d4b5ab53cd0",
   "metadata": {},
   "outputs": [],
   "source": [
    "# Feature Scaling\n",
    "scaler = MinMaxScaler()\n",
    "data = df.copy()\n",
    "data[['total_purchase']] = scaler.fit_transform(data[['total_purchase']])\n",
    "#data[['age']] = scaler.fit_transform(data[['age']])\n"
   ]
  },
  {
   "cell_type": "code",
   "execution_count": 33,
   "id": "07f59e41-eb7e-4a5c-89d2-e4ba86bd78e2",
   "metadata": {},
   "outputs": [],
   "source": [
    "data = data.drop(['names', 'location', 'company','onboard_date'], axis=1)"
   ]
  },
  {
   "cell_type": "code",
   "execution_count": 34,
   "id": "b4eed6be-eb66-4e8a-9eae-c51771c39f68",
   "metadata": {},
   "outputs": [
    {
     "data": {
      "text/html": [
       "<div>\n",
       "<style scoped>\n",
       "    .dataframe tbody tr th:only-of-type {\n",
       "        vertical-align: middle;\n",
       "    }\n",
       "\n",
       "    .dataframe tbody tr th {\n",
       "        vertical-align: top;\n",
       "    }\n",
       "\n",
       "    .dataframe thead th {\n",
       "        text-align: right;\n",
       "    }\n",
       "</style>\n",
       "<table border=\"1\" class=\"dataframe\">\n",
       "  <thead>\n",
       "    <tr style=\"text-align: right;\">\n",
       "      <th></th>\n",
       "      <th>age</th>\n",
       "      <th>total_purchase</th>\n",
       "      <th>account_manager</th>\n",
       "      <th>years</th>\n",
       "      <th>num_sites</th>\n",
       "      <th>churn</th>\n",
       "    </tr>\n",
       "  </thead>\n",
       "  <tbody>\n",
       "    <tr>\n",
       "      <th>0</th>\n",
       "      <td>42.0</td>\n",
       "      <td>0.611781</td>\n",
       "      <td>0</td>\n",
       "      <td>7.22</td>\n",
       "      <td>8.0</td>\n",
       "      <td>1</td>\n",
       "    </tr>\n",
       "    <tr>\n",
       "      <th>1</th>\n",
       "      <td>41.0</td>\n",
       "      <td>0.659166</td>\n",
       "      <td>0</td>\n",
       "      <td>6.50</td>\n",
       "      <td>11.0</td>\n",
       "      <td>1</td>\n",
       "    </tr>\n",
       "    <tr>\n",
       "      <th>2</th>\n",
       "      <td>38.0</td>\n",
       "      <td>0.713196</td>\n",
       "      <td>0</td>\n",
       "      <td>6.67</td>\n",
       "      <td>12.0</td>\n",
       "      <td>1</td>\n",
       "    </tr>\n",
       "    <tr>\n",
       "      <th>3</th>\n",
       "      <td>42.0</td>\n",
       "      <td>0.441301</td>\n",
       "      <td>0</td>\n",
       "      <td>6.71</td>\n",
       "      <td>10.0</td>\n",
       "      <td>1</td>\n",
       "    </tr>\n",
       "    <tr>\n",
       "      <th>4</th>\n",
       "      <td>37.0</td>\n",
       "      <td>0.507173</td>\n",
       "      <td>0</td>\n",
       "      <td>5.56</td>\n",
       "      <td>9.0</td>\n",
       "      <td>1</td>\n",
       "    </tr>\n",
       "  </tbody>\n",
       "</table>\n",
       "</div>"
      ],
      "text/plain": [
       "    age  total_purchase  account_manager  years  num_sites  churn\n",
       "0  42.0        0.611781                0   7.22        8.0      1\n",
       "1  41.0        0.659166                0   6.50       11.0      1\n",
       "2  38.0        0.713196                0   6.67       12.0      1\n",
       "3  42.0        0.441301                0   6.71       10.0      1\n",
       "4  37.0        0.507173                0   5.56        9.0      1"
      ]
     },
     "execution_count": 34,
     "metadata": {},
     "output_type": "execute_result"
    }
   ],
   "source": [
    "data.head()"
   ]
  },
  {
   "cell_type": "code",
   "execution_count": 35,
   "id": "317f8900-288a-43e8-897f-ed0463c570f6",
   "metadata": {},
   "outputs": [
    {
     "name": "stdout",
     "output_type": "stream",
     "text": [
      "<class 'pandas.core.frame.DataFrame'>\n",
      "RangeIndex: 900 entries, 0 to 899\n",
      "Data columns (total 10 columns):\n",
      " #   Column           Non-Null Count  Dtype         \n",
      "---  ------           --------------  -----         \n",
      " 0   names            900 non-null    object        \n",
      " 1   age              900 non-null    float64       \n",
      " 2   total_purchase   900 non-null    float64       \n",
      " 3   account_manager  900 non-null    int64         \n",
      " 4   years            900 non-null    float64       \n",
      " 5   num_sites        900 non-null    float64       \n",
      " 6   onboard_date     900 non-null    datetime64[ns]\n",
      " 7   location         900 non-null    object        \n",
      " 8   company          900 non-null    object        \n",
      " 9   churn            900 non-null    int64         \n",
      "dtypes: datetime64[ns](1), float64(4), int64(2), object(3)\n",
      "memory usage: 70.4+ KB\n"
     ]
    }
   ],
   "source": [
    "df.info()"
   ]
  },
  {
   "cell_type": "markdown",
   "id": "22dada1c-8674-40be-b770-19a2887f860c",
   "metadata": {},
   "source": [
    "## model creating"
   ]
  },
  {
   "cell_type": "code",
   "execution_count": 36,
   "id": "23db4c75-1b0e-4547-a4f6-98abb60c9d31",
   "metadata": {},
   "outputs": [],
   "source": [
    "# split data\n",
    "x = data.drop('churn', axis=1)\n",
    "y = data['churn']"
   ]
  },
  {
   "cell_type": "code",
   "execution_count": 37,
   "id": "4336abc0-0207-46fa-ab1e-d4de85a7211e",
   "metadata": {},
   "outputs": [],
   "source": [
    "x_train,x_test,y_train,y_test=train_test_split(x,y,test_size=0.2,random_state=21)"
   ]
  },
  {
   "cell_type": "code",
   "execution_count": 38,
   "id": "355d46aa-00e9-40a1-ab84-2af9d4e96491",
   "metadata": {},
   "outputs": [],
   "source": [
    "# Data balance to become number of nochurned=churned \n",
    "smote = SMOTE(random_state=42)\n",
    "x_train, y_train = smote.fit_resample(x_train, y_train)"
   ]
  },
  {
   "cell_type": "code",
   "execution_count": 39,
   "id": "39a3774d-37c0-40f7-ac12-d7ff6ac4bd29",
   "metadata": {},
   "outputs": [
    {
     "data": {
      "image/png": "[encoded data removed]",
      "text/plain": [
       "<Figure size 600x600 with 1 Axes>"
      ]
     },
     "metadata": {},
     "output_type": "display_data"
    }
   ],
   "source": [
    "churn_counts = y_train.value_counts()\n",
    "\n",
    "\n",
    "plt.figure(figsize=(6, 6))\n",
    "plt.pie(churn_counts, labels=churn_counts.index, autopct='%1.1f%%', startangle=90, colors=['skyblue', 'lightcoral'])\n",
    "plt.title('Churn Distribution')\n",
    "plt.axis('equal')  # يجعل الدائرة فعلاً دائرية\n",
    "plt.show()"
   ]
  },
  {
   "cell_type": "code",
   "execution_count": 40,
   "id": "43e7b696-d3e0-46c6-a028-b89892a5c237",
   "metadata": {},
   "outputs": [
    {
     "name": "stdout",
     "output_type": "stream",
     "text": [
      "Fitting 5 folds for each of 108 candidates, totalling 540 fits\n",
      "Best parameters for RandomForestClassifier:\n",
      "{'max_depth': 10, 'min_samples_leaf': 1, 'min_samples_split': 2, 'n_estimators': 50}\n"
     ]
    }
   ],
   "source": [
    "# finding the best parameters in randomforestclassifier model\n",
    "rf = RandomForestClassifier(random_state=42)\n",
    "\n",
    "\n",
    "param_grid_rf = {\n",
    "    'n_estimators': [50, 100, 200],           \n",
    "    'max_depth': [None, 10, 20, 30],          \n",
    "    'min_samples_split': [2, 5, 10],          \n",
    "    'min_samples_leaf': [1, 2, 4] }\n",
    "\n",
    "grid_search_rf = GridSearchCV(estimator=rf, param_grid=param_grid_rf,\n",
    "                              cv=5, n_jobs=-1, verbose=2, scoring='accuracy')\n",
    "\n",
    "grid_search_rf.fit(x_train, y_train)\n",
    "\n",
    "print(\"Best parameters for RandomForestClassifier:\")\n",
    "print(grid_search_rf.best_params_)"
   ]
  },
  {
   "cell_type": "code",
   "execution_count": 41,
   "id": "d88e8101-71a0-4170-ac3d-89a3bea6ce5b",
   "metadata": {},
   "outputs": [
    {
     "name": "stdout",
     "output_type": "stream",
     "text": [
      "Fitting 3 folds for each of 10 candidates, totalling 30 fits\n",
      "Best parameters: {'subsample': 0.8, 'n_estimators': 200, 'max_depth': 5, 'learning_rate': 0.1}\n"
     ]
    }
   ],
   "source": [
    "# finding the best parameters in GradientBoostingClassifier model\n",
    "gbc = GradientBoostingClassifier(random_state=42)\n",
    "\n",
    "param_grid_gbc = {\n",
    "    'n_estimators': [100, 200],\n",
    "    'learning_rate': [0.01, 0.1],\n",
    "    'max_depth': [3, 5],\n",
    "    'subsample': [0.8, 1.0]\n",
    "}\n",
    "\n",
    "search = RandomizedSearchCV(gbc, param_distributions=param_grid_gbc,\n",
    "                            n_iter=10, cv=3, scoring='accuracy', n_jobs=-1, verbose=2, random_state=42)\n",
    "\n",
    "search.fit(x_train, y_train)\n",
    "print(\"Best parameters:\", search.best_params_)"
   ]
  },
  {
   "cell_type": "code",
   "execution_count": 42,
   "id": "c415d5e0-5c46-4a4e-bd90-5929af79aaf1",
   "metadata": {},
   "outputs": [
    {
     "name": "stdout",
     "output_type": "stream",
     "text": [
      "Fitting 3 folds for each of 6 candidates, totalling 18 fits\n",
      "Best parameters for SVC:\n",
      "{'kernel': 'rbf', 'gamma': 'scale', 'C': 10}\n"
     ]
    }
   ],
   "source": [
    "#finding the best parameters in SVC model\n",
    "svc = SVC(random_state=42)\n",
    "\n",
    "param_grid_svc = {\n",
    "    'C': [0.1, 1, 10],\n",
    "    'kernel': ['linear', 'rbf'],\n",
    "    'gamma': ['scale', 'auto'],\n",
    "   \n",
    "}\n",
    "\n",
    "search = RandomizedSearchCV(svc, param_distributions=param_grid_svc,\n",
    "                            n_iter=6, cv=3, scoring='accuracy', n_jobs=-1, verbose=2, random_state=42)\n",
    "\n",
    "search.fit(x_train, y_train)\n",
    "\n",
    "print(\"Best parameters for SVC:\")\n",
    "print(search.best_params_)"
   ]
  },
  {
   "cell_type": "code",
   "execution_count": 43,
   "id": "24411443-e026-4a0a-a384-fe2041f9c457",
   "metadata": {},
   "outputs": [
    {
     "name": "stdout",
     "output_type": "stream",
     "text": [
      "Fitting 5 folds for each of 8 candidates, totalling 40 fits\n",
      "Best parameters for Logistic Regression:\n",
      "{'C': 10, 'penalty': 'l1'}\n"
     ]
    }
   ],
   "source": [
    "# finding the best parameters in LogisticRegression model\n",
    "log_reg = LogisticRegression(solver='liblinear', random_state=42)\n",
    "\n",
    "param_grid_log = {\n",
    "    'C': [0.01, 0.1, 1, 10],\n",
    "    'penalty': ['l1', 'l2']\n",
    "}\n",
    "\n",
    "grid_search_log = GridSearchCV(estimator=log_reg, param_grid=param_grid_log,\n",
    "                               cv=5, n_jobs=-1, verbose=2, scoring='accuracy')\n",
    "\n",
    "grid_search_log.fit(x_train, y_train)\n",
    "\n",
    "print(\"Best parameters for Logistic Regression:\")\n",
    "print(grid_search_log.best_params_)"
   ]
  },
  {
   "cell_type": "code",
   "execution_count": 44,
   "id": "4f5cad35-a804-48d6-82cd-7eaf3fec8d08",
   "metadata": {},
   "outputs": [
    {
     "name": "stdout",
     "output_type": "stream",
     "text": [
      "Fitting 5 folds for each of 16 candidates, totalling 80 fits\n",
      "Best parameters for KNeighborsClassifier:\n",
      "{'metric': 'manhattan', 'n_neighbors': 3, 'weights': 'distance'}\n"
     ]
    }
   ],
   "source": [
    "# finding the best parameters in KNeighborsClassifier model\n",
    "knn = KNeighborsClassifier()\n",
    "param_grid_knn = {\n",
    "    'n_neighbors': [3, 5, 7, 9],\n",
    "    'weights': ['uniform', 'distance'],\n",
    "    'metric': ['euclidean', 'manhattan']\n",
    "}\n",
    "\n",
    "grid_search_knn = GridSearchCV(estimator=knn, param_grid=param_grid_knn,\n",
    "                               cv=5, n_jobs=-1, verbose=2, scoring='accuracy')\n",
    "\n",
    "grid_search_knn.fit(x_train, y_train)\n",
    "\n",
    "print(\"Best parameters for KNeighborsClassifier:\")\n",
    "print(grid_search_knn.best_params_)"
   ]
  },
  {
   "cell_type": "code",
   "execution_count": 45,
   "id": "08b48469-9276-4ad5-b93d-7dc87fc3e0b2",
   "metadata": {},
   "outputs": [],
   "source": [
    "# call models with best parameters\n",
    "rf = RandomForestClassifier(\n",
    "    max_depth=10,\n",
    "    min_samples_leaf=1,\n",
    "    min_samples_split=2,\n",
    "    n_estimators=50,\n",
    "    random_state=42)\n",
    "\n",
    "\n",
    "\n",
    "gbc = GradientBoostingClassifier(\n",
    "    subsample=0.8,\n",
    "    n_estimators=200,\n",
    "    max_depth=5,\n",
    "    learning_rate=0.1,\n",
    "    random_state=42)\n",
    "\n",
    "\n",
    "knn = KNeighborsClassifier(\n",
    "    metric='manhattan',\n",
    "    n_neighbors=3,\n",
    "    weights='distance')\n",
    "\n",
    "\n",
    "logreg = LogisticRegression(\n",
    "    C=10,\n",
    "    penalty='l1',\n",
    "    solver='liblinear',  \n",
    "    random_state=42)\n",
    "\n",
    "svc = SVC(\n",
    "    kernel='rbf',\n",
    "    gamma='scale',\n",
    "    C=10,\n",
    "    random_state=42)\n"
   ]
  },
  {
   "cell_type": "code",
   "execution_count": 46,
   "id": "c296fab6-f2e9-4fc3-b1ce-4dd85b960342",
   "metadata": {},
   "outputs": [],
   "source": [
    "def pred(model):\n",
    "    model.fit(x_train,y_train)\n",
    "    pre=model.predict(x_test)\n",
    "    print(f\"classification_report: {classification_report(y_test, pre)}\")\n",
    "    print(f\"Mean Squared Error: {mean_squared_error(y_test, pre)}\")\n",
    "    print(f\"Confusion Matrix:\\n{confusion_matrix(y_test, pre)}\")\n",
    "    print(f\"Accuracy Score: {accuracy_score(y_test, pre)}\")\n",
    "    print(f\"Recall Score: {recall_score(y_test, pre)}\")\n",
    "    print(f\"F1 Score: {f1_score(y_test, pre)}\")"
   ]
  },
  {
   "cell_type": "code",
   "execution_count": 47,
   "id": "a4e9f273-4db1-4975-9320-c2368ff945b0",
   "metadata": {},
   "outputs": [
    {
     "name": "stdout",
     "output_type": "stream",
     "text": [
      "classification_report:               precision    recall  f1-score   support\n",
      "\n",
      "           0       0.93      0.90      0.92       150\n",
      "           1       0.57      0.67      0.62        30\n",
      "\n",
      "    accuracy                           0.86       180\n",
      "   macro avg       0.75      0.78      0.77       180\n",
      "weighted avg       0.87      0.86      0.87       180\n",
      "\n",
      "Mean Squared Error: 0.1388888888888889\n",
      "Confusion Matrix:\n",
      "[[135  15]\n",
      " [ 10  20]]\n",
      "Accuracy Score: 0.8611111111111112\n",
      "Recall Score: 0.6666666666666666\n",
      "F1 Score: 0.6153846153846154\n"
     ]
    }
   ],
   "source": [
    "pred(rf)"
   ]
  },
  {
   "cell_type": "code",
   "execution_count": 48,
   "id": "fdc808b6-f1f0-4b80-b232-bbeb2a02c44b",
   "metadata": {},
   "outputs": [
    {
     "name": "stdout",
     "output_type": "stream",
     "text": [
      "classification_report:               precision    recall  f1-score   support\n",
      "\n",
      "           0       0.93      0.91      0.92       150\n",
      "           1       0.61      0.67      0.63        30\n",
      "\n",
      "    accuracy                           0.87       180\n",
      "   macro avg       0.77      0.79      0.78       180\n",
      "weighted avg       0.88      0.87      0.87       180\n",
      "\n",
      "Mean Squared Error: 0.12777777777777777\n",
      "Confusion Matrix:\n",
      "[[137  13]\n",
      " [ 10  20]]\n",
      "Accuracy Score: 0.8722222222222222\n",
      "Recall Score: 0.6666666666666666\n",
      "F1 Score: 0.6349206349206349\n"
     ]
    }
   ],
   "source": [
    "pred(gbc)"
   ]
  },
  {
   "cell_type": "code",
   "execution_count": 49,
   "id": "462ad1c7-9fa0-407b-a4a3-e933dfdf384c",
   "metadata": {},
   "outputs": [
    {
     "name": "stdout",
     "output_type": "stream",
     "text": [
      "classification_report:               precision    recall  f1-score   support\n",
      "\n",
      "           0       0.92      0.86      0.89       150\n",
      "           1       0.47      0.63      0.54        30\n",
      "\n",
      "    accuracy                           0.82       180\n",
      "   macro avg       0.70      0.75      0.72       180\n",
      "weighted avg       0.85      0.82      0.83       180\n",
      "\n",
      "Mean Squared Error: 0.17777777777777778\n",
      "Confusion Matrix:\n",
      "[[129  21]\n",
      " [ 11  19]]\n",
      "Accuracy Score: 0.8222222222222222\n",
      "Recall Score: 0.6333333333333333\n",
      "F1 Score: 0.5428571428571428\n"
     ]
    }
   ],
   "source": [
    "pred(knn)"
   ]
  },
  {
   "cell_type": "code",
   "execution_count": 50,
   "id": "da1c1ede-c841-49fc-8fd4-80ed154b20ae",
   "metadata": {},
   "outputs": [
    {
     "name": "stdout",
     "output_type": "stream",
     "text": [
      "classification_report:               precision    recall  f1-score   support\n",
      "\n",
      "           0       0.96      0.83      0.89       150\n",
      "           1       0.49      0.83      0.62        30\n",
      "\n",
      "    accuracy                           0.83       180\n",
      "   macro avg       0.73      0.83      0.75       180\n",
      "weighted avg       0.88      0.83      0.84       180\n",
      "\n",
      "Mean Squared Error: 0.17222222222222222\n",
      "Confusion Matrix:\n",
      "[[124  26]\n",
      " [  5  25]]\n",
      "Accuracy Score: 0.8277777777777777\n",
      "Recall Score: 0.8333333333333334\n",
      "F1 Score: 0.6172839506172839\n"
     ]
    }
   ],
   "source": [
    "pred(logreg)"
   ]
  },
  {
   "cell_type": "code",
   "execution_count": 51,
   "id": "9ec7160f-e4fe-403b-97dd-22886d0c2619",
   "metadata": {
    "scrolled": true
   },
   "outputs": [
    {
     "name": "stdout",
     "output_type": "stream",
     "text": [
      "classification_report:               precision    recall  f1-score   support\n",
      "\n",
      "           0       0.97      0.84      0.90       150\n",
      "           1       0.52      0.87      0.65        30\n",
      "\n",
      "    accuracy                           0.84       180\n",
      "   macro avg       0.74      0.85      0.78       180\n",
      "weighted avg       0.89      0.84      0.86       180\n",
      "\n",
      "Mean Squared Error: 0.15555555555555556\n",
      "Confusion Matrix:\n",
      "[[126  24]\n",
      " [  4  26]]\n",
      "Accuracy Score: 0.8444444444444444\n",
      "Recall Score: 0.8666666666666667\n",
      "F1 Score: 0.65\n"
     ]
    }
   ],
   "source": [
    "pred(svc)"
   ]
  },
  {
   "cell_type": "markdown",
   "id": "8984f125-040a-466c-8829-0ec108bc7db4",
   "metadata": {},
   "source": [
    "<h2><span style=\"color: #00ff00;\"><strong>the best model is svc</strong></span></h1>\n",
    "<!-- Comments are visible in the HTML source only -->"
   ]
  },
  {
   "cell_type": "markdown",
   "id": "d752544b-976e-4073-8089-72b43cb80930",
   "metadata": {},
   "source": [
    "### Trying to change threshold To balance the results between true Positives true negatives"
   ]
  },
  {
   "cell_type": "code",
   "execution_count": 52,
   "id": "dd9d0b5a-c83a-45ed-b848-038dbc7303e3",
   "metadata": {},
   "outputs": [],
   "source": [
    "from sklearn.metrics import roc_curve, roc_auc_score"
   ]
  },
  {
   "cell_type": "code",
   "execution_count": 53,
   "id": "c3df3989-19c7-44e1-bd76-6cdd4f7765be",
   "metadata": {},
   "outputs": [
    {
     "data": {
      "image/png": "[encoded data removed]",
      "text/plain": [
       "<Figure size 800x600 with 1 Axes>"
      ]
     },
     "metadata": {},
     "output_type": "display_data"
    }
   ],
   "source": [
    "y_scores = svc.decision_function(x_test)\n",
    "fpr, tpr, thresholds = roc_curve(y_test, y_scores)\n",
    "auc_score = roc_auc_score(y_test, y_scores)\n",
    "plt.figure(figsize=(8,6))\n",
    "plt.plot(fpr, tpr, label=f'SVC ROC curve (AUC = {auc_score:.3f})')\n",
    "plt.plot([0, 1], [0, 1], 'k--', label='Random guess')\n",
    "plt.xlabel('False Positive Rate')\n",
    "plt.ylabel('True Positive Rate (Recall)')\n",
    "plt.title('Receiver Operating Characteristic (ROC) Curve')\n",
    "plt.legend(loc='lower right')\n",
    "plt.grid(True)\n",
    "plt.show()"
   ]
  },
  {
   "cell_type": "code",
   "execution_count": 54,
   "id": "a44851c6-1f3a-41c4-b9ff-3538a5fc46cf",
   "metadata": {},
   "outputs": [
    {
     "name": "stdout",
     "output_type": "stream",
     "text": [
      "\n",
      "Threshold: 0.35\n",
      "TN: 136, FP: 14, FN: 5, TP: 25\n",
      "Accuracy: 0.89\n",
      "Recall: 0.83\n",
      "F1 Score: 0.72\n",
      "\n",
      "Threshold: 0.4\n",
      "TN: 136, FP: 14, FN: 7, TP: 23\n",
      "Accuracy: 0.88\n",
      "Recall: 0.77\n",
      "F1 Score: 0.69\n",
      "\n",
      "Threshold: 0.45\n",
      "TN: 139, FP: 11, FN: 7, TP: 23\n",
      "Accuracy: 0.90\n",
      "Recall: 0.77\n",
      "F1 Score: 0.72\n",
      "\n",
      "Threshold: 0.5\n",
      "TN: 139, FP: 11, FN: 7, TP: 23\n",
      "Accuracy: 0.90\n",
      "Recall: 0.77\n",
      "F1 Score: 0.72\n",
      "\n",
      "Threshold: 0.55\n",
      "TN: 140, FP: 10, FN: 7, TP: 23\n",
      "Accuracy: 0.91\n",
      "Recall: 0.77\n",
      "F1 Score: 0.73\n",
      "\n",
      "Threshold: 0.6\n",
      "TN: 142, FP: 8, FN: 7, TP: 23\n",
      "Accuracy: 0.92\n",
      "Recall: 0.77\n",
      "F1 Score: 0.75\n",
      "\n",
      "Threshold: 0.65\n",
      "TN: 142, FP: 8, FN: 9, TP: 21\n",
      "Accuracy: 0.91\n",
      "Recall: 0.70\n",
      "F1 Score: 0.71\n",
      "\n",
      "Threshold: 0.7\n",
      "TN: 142, FP: 8, FN: 10, TP: 20\n",
      "Accuracy: 0.90\n",
      "Recall: 0.67\n",
      "F1 Score: 0.69\n",
      "\n",
      "Threshold: 0.75\n",
      "TN: 143, FP: 7, FN: 10, TP: 20\n",
      "Accuracy: 0.91\n",
      "Recall: 0.67\n",
      "F1 Score: 0.70\n"
     ]
    }
   ],
   "source": [
    "# searching for the best threshold\n",
    "decision_scores = svc.decision_function(x_test)\n",
    "for thresh in [0.35, 0.4, 0.45, 0.5, 0.55, 0.6, 0.65, 0.7, 0.75]:\n",
    "    y_pred_thresh = (decision_scores >= thresh).astype(int)\n",
    "    cm = confusion_matrix(y_test, y_pred_thresh)\n",
    "    tn, fp, fn, tp = cm.ravel()\n",
    "\n",
    "    print(f\"\\nThreshold: {thresh}\")\n",
    "    print(f\"TN: {tn}, FP: {fp}, FN: {fn}, TP: {tp}\")\n",
    "    print(f\"Accuracy: {accuracy_score(y_test, y_pred_thresh):.2f}\")\n",
    "    print(f\"Recall: {recall_score(y_test, y_pred_thresh):.2f}\")\n",
    "    print(f\"F1 Score: {f1_score(y_test, y_pred_thresh):.2f}\")"
   ]
  },
  {
   "cell_type": "markdown",
   "id": "ac35556f-0f31-454c-a3fa-06363ef62e87",
   "metadata": {},
   "source": [
    "<h3><span style=\"color: #3366ff;\">0.6 is the best threshold</span><br /><!-- Comments are visible in the HTML source only --></h3>"
   ]
  },
  {
   "cell_type": "code",
   "execution_count": 55,
   "id": "df6f9f83-4231-4546-8a1f-a4dc88cb9855",
   "metadata": {},
   "outputs": [],
   "source": [
    "# train the model with 0.6 threshold\n",
    "def call(model):\n",
    "    threshold = 0.6  \n",
    "    model.fit(x_train, y_train)\n",
    "    decision_scores = model.decision_function(x_test)\n",
    "    y_pred_custom = (decision_scores >= threshold).astype(int)\n",
    "    \n",
    "    print(f\"Threshold: {threshold}\")\n",
    "    print(f\"classification_report:\\n{classification_report(y_test, y_pred_custom)}\")\n",
    "    print(f\"Mean Squared Error: {mean_squared_error(y_test, y_pred_custom)}\")\n",
    "    print(f\"Confusion Matrix:\\n{confusion_matrix(y_test, y_pred_custom)}\")\n",
    "    print(f\"Accuracy Score: {accuracy_score(y_test, y_pred_custom)}\")\n",
    "    print(f\"Recall Score: {recall_score(y_test, y_pred_custom)}\")\n",
    "    print(f\"F1 Score: {f1_score(y_test, y_pred_custom)}\")"
   ]
  },
  {
   "cell_type": "code",
   "execution_count": 56,
   "id": "f46d328d-6e52-43d4-8d81-351e17782ca7",
   "metadata": {},
   "outputs": [
    {
     "name": "stdout",
     "output_type": "stream",
     "text": [
      "Threshold: 0.6\n",
      "classification_report:\n",
      "              precision    recall  f1-score   support\n",
      "\n",
      "           0       0.95      0.95      0.95       150\n",
      "           1       0.74      0.77      0.75        30\n",
      "\n",
      "    accuracy                           0.92       180\n",
      "   macro avg       0.85      0.86      0.85       180\n",
      "weighted avg       0.92      0.92      0.92       180\n",
      "\n",
      "Mean Squared Error: 0.08333333333333333\n",
      "Confusion Matrix:\n",
      "[[142   8]\n",
      " [  7  23]]\n",
      "Accuracy Score: 0.9166666666666666\n",
      "Recall Score: 0.7666666666666667\n",
      "F1 Score: 0.7540983606557377\n"
     ]
    }
   ],
   "source": [
    "call(svc)"
   ]
  },
  {
   "cell_type": "markdown",
   "id": "c9bded14-d170-4666-b385-1daa943a1267",
   "metadata": {},
   "source": [
    "### We observe an improvement in the results."
   ]
  },
  {
   "cell_type": "code",
   "execution_count": null,
   "id": "7cfebde2-730e-4baf-b603-b41d321f134f",
   "metadata": {},
   "outputs": [],
   "source": []
  },
  {
   "cell_type": "code",
   "execution_count": null,
   "id": "af7e8626-d07f-4ff8-bb42-0abb8ea9cb8d",
   "metadata": {},
   "outputs": [],
   "source": [
    "#new_data_processed = scaler.transform(#put your new data hare)  \n",
    "\n",
    "\n",
    "#predictions = model.predict(new_data_processed)\n",
    "\n",
    "\n",
    "#new_df_with_predictions = new_df.copy()\n",
    "#new_df_with_predictions['Churn_Predicted'] = predictions\n",
    "\n",
    "\n",
    "#print(new_df_with_predictions.head())"
   ]
  },
  {
   "cell_type": "markdown",
   "id": "3609a3f0-c188-432a-8876-d8ffd8cd7fcf",
   "metadata": {},
   "source": [
    "<div class=WordSection1>\n",
    "\n",
    "<p class=MsoNormal><b><u><span style='font-size:24.0pt;line-height:115%;\n",
    "color:#EE0000'>Final Report</span></u></b><br>\n",
    "After analyzing the data, we concluded the following:<o:p></o:p></p>\n",
    "\n",
    "<ul style='margin-top:0in' type=disc>\n",
    " <li class=MsoNormal style='mso-list:l0 level1 lfo1;tab-stops:list .5in'>The\n",
    "     age of our users ranges from 20 to over 60 years, but the majority are\n",
    "     between approximately 25 and 55 years old.<o:p></o:p></li>\n",
    " <li class=MsoNormal style='mso-list:l0 level1 lfo1;tab-stops:list .5in'>The\n",
    "     total spending reached <b><span style='color:#70AD47;mso-themecolor:accent6'>nine\n",
    "     million and fifty-six thousand</span></b>.<o:p></o:p></li>\n",
    " <li class=MsoNormal style='mso-list:l0 level1 lfo1;tab-stops:list .5in'>90% of\n",
    "     users spent between <b><span style='color:#70AD47;mso-themecolor:accent6'>8,497\n",
    "     and 11,760</span></b>.<o:p></o:p></li>\n",
    " <li class=MsoNormal style='mso-list:l0 level1 lfo1;tab-stops:list .5in'>The\n",
    "     highest recorded spending reached <b><span style='color:#70AD47;\n",
    "     mso-themecolor:accent6'>eighteen thousand</span></b>.<o:p></o:p></li>\n",
    " <li class=MsoNormal style='mso-list:l0 level1 lfo1;tab-stops:list .5in'>90% of\n",
    "     our users have been with us for <b><span style='color:#70AD47;mso-themecolor:\n",
    "     accent6'>4 to 6 years</span></b>.<o:p></o:p></li>\n",
    " <li class=MsoNormal style='mso-list:l0 level1 lfo1;tab-stops:list .5in'><span\n",
    "     style='color:#FF1919'>The churn rate is <b>16.7%</b></span>, while <b><span\n",
    "     style='color:#A9F54D'>83.3%</span></b><span style='color:#A9F54D'> of\n",
    "     users stayed</span> — which is a good retention rate.<o:p></o:p></li>\n",
    " <li class=MsoNormal style='mso-list:l0 level1 lfo1;tab-stops:list .5in'>90% of\n",
    "     the users who churned had been with us <span style='color:#00B050'>for <b>five\n",
    "     to six years</b></span>, which is a positive indicator. Their spending\n",
    "     ranged between <b><span style='color:#00B050'>eight thousand and eleven\n",
    "     thousand</span></b>.<o:p></o:p></li>\n",
    "</ul>\n",
    "\n",
    "<p class=MsoNormal><span dir=RTL></span><b><span lang=AR-SA dir=RTL\n",
    "style='font-family:\"Segoe UI Emoji\",sans-serif;mso-bidi-font-family:\"Segoe UI Emoji\"'><span\n",
    "dir=RTL></span><span style='mso-spacerun:yes'>  </span></span></b><b><u><span\n",
    "style='font-size:14.0pt;line-height:115%;color:#00B0F0'>Machine Learning\n",
    "Performance</span></u></b><b><u><span style='font-size:14.0pt;line-height:115%'><o:p></o:p></span></u></b></p>\n",
    "\n",
    "<p class=MsoNormal>The <b><span style='color:#ED7D31;mso-themecolor:accent2'>SVC\n",
    "(Support Vector Classifier)</span></b><span style='color:#ED7D31;mso-themecolor:\n",
    "accent2'> </span>model delivered strong performance.<o:p></o:p></p>\n",
    "\n",
    "<p class=MsoNormal>After adjusting the threshold, the final results were as\n",
    "follows:<o:p></o:p></p>\n",
    "\n",
    "<ul style='margin-top:0in' type=disc>\n",
    " <li class=MsoNormal style='mso-list:l1 level1 lfo2;tab-stops:list .5in'><b>77%</b>\n",
    "     of users who actually churned were correctly identified by the model (<b>recall</b>).<o:p></o:p></li>\n",
    " <li class=MsoNormal style='mso-list:l1 level1 lfo2;tab-stops:list .5in'><b>74%</b>\n",
    "     of the users predicted to churn had in fact churned (<b>precision</b>).<o:p></o:p></li>\n",
    " <li class=MsoNormal style='mso-list:l1 level1 lfo2;tab-stops:list .5in'>The\n",
    "     prediction accuracy for users who did not churn reached <b>95%</b>.<o:p></o:p></li>\n",
    " <li class=MsoNormal style='mso-list:l1 level1 lfo2;tab-stops:list .5in'>The\n",
    "     overall accuracy of the model was <b>91%</b>.<o:p></o:p></li>\n",
    " <li class=MsoNormal style='mso-list:l1 level1 lfo2;tab-stops:list .5in'>The\n",
    "     error rate was <b>0.08</b> (Mean Squared Error).<o:p></o:p></li>\n",
    "</ul>\n",
    "\n",
    "<p class=MsoNormal><b>Confusion Matrix Breakdown:<o:p></o:p></b></p>\n",
    "\n",
    "<ul style='margin-top:0in' type=disc>\n",
    " <li class=MsoNormal style='mso-list:l2 level1 lfo3;tab-stops:list .5in'><b><span\n",
    "     style='color:#92D050'>True Negatives </span>(TN) = 142</b>: Correctly\n",
    "     identified as users who did not churn.<o:p></o:p></li>\n",
    " <li class=MsoNormal style='mso-list:l2 level1 lfo3;tab-stops:list .5in'><b><span\n",
    "     style='color:#FF0505'>False Positives </span>(FP) = 8</b>: Incorrectly\n",
    "     predicted to churn, but they actually stayed.<o:p></o:p></li>\n",
    " <li class=MsoNormal style='mso-list:l2 level1 lfo3;tab-stops:list .5in'><b><span\n",
    "     style='color:#FF1919'>False Negatives </span>(FN) = 7</b>: The model\n",
    "     failed to identify 7 users who actually churned.<o:p></o:p></li>\n",
    " <li class=MsoNormal style='mso-list:l2 level1 lfo3;tab-stops:list .5in'><b><span\n",
    "     style='color:#92D050'>True Positives </span>(TP) = 23</b>: Correctly\n",
    "     identified as users who churned.<o:p></o:p></li>\n",
    "</ul>\n",
    "\n",
    "<p style='margin-left:.5in;text-indent:-.25in;mso-list:l2 level1 lfo3;\n",
    "tab-stops:list .5in'><![if !supportLists]><span style='font-size:10.0pt;\n",
    "mso-bidi-font-size:12.0pt;font-family:Symbol;mso-fareast-font-family:Symbol;\n",
    "mso-bidi-font-family:Symbol'><span style='mso-list:Ignore'>·<span\n",
    "style='font:7.0pt \"Times New Roman\"'>&nbsp;&nbsp;&nbsp;&nbsp;&nbsp;&nbsp;&nbsp;&nbsp;\n",
    "</span></span></span><![endif]><span dir=LTR></span><span style='color:#E55596'>These\n",
    "results indicate that the </span><strong data-start=102 data-end=115><span\n",
    "style='mso-fareast-font-family:\"Times New Roman\";mso-fareast-theme-font:major-fareast;\n",
    "color:#E55596'>SVC model</span></strong><span style='color:#E55596'>, with the\n",
    "threshold adjusted to </span><strong data-start=148 data-end=155><span\n",
    "style='mso-fareast-font-family:\"Times New Roman\";mso-fareast-theme-font:major-fareast;\n",
    "color:#E55596'>0.6</span></strong><span style='color:#E55596'>, is capable of\n",
    "achieving an excellent balance between minimizing customer loss (through high</span>\n",
    "<strong data-start=249 data-end=259><span style='mso-fareast-font-family:\"Times New Roman\";\n",
    "mso-fareast-theme-font:major-fareast'>recall</span></strong>) and reducing\n",
    "false alarms (through good <strong data-start=301 data-end=314><span\n",
    "style='mso-fareast-font-family:\"Times New Roman\";mso-fareast-theme-font:major-fareast'>precision</span></strong>).\n",
    "This makes it a strong candidate for use in <strong data-start=361\n",
    "data-end=394><span style='mso-fareast-font-family:\"Times New Roman\";mso-fareast-theme-font:\n",
    "major-fareast'>customer retention strategies</span></strong>.<o:p></o:p></p>\n",
    "\n",
    "<p class=MsoNormal><o:p>&nbsp;</o:p></p>\n",
    "\n",
    "<p class=MsoNormal><o:p>&nbsp;</o:p></p>\n",
    "\n",
    "<p class=MsoNormal><o:p>&nbsp;</o:p></p>\n",
    "\n",
    "<p class=MsoNormal><o:p>&nbsp;</o:p></p>\n",
    "\n",
    "<p class=MsoNormal><span lang=AR-DZ dir=RTL style='font-family:\"Arial\",sans-serif;\n",
    "mso-ascii-font-family:Calibri;mso-ascii-theme-font:minor-latin;mso-hansi-font-family:\n",
    "Calibri;mso-hansi-theme-font:minor-latin;mso-bidi-theme-font:minor-bidi;\n",
    "color:#FF0505;mso-ansi-language:FR;mso-bidi-language:AR-DZ'><o:p>&nbsp;</o:p></span></p>\n",
    "\n",
    "</div>"
   ]
  },
  {
   "cell_type": "code",
   "execution_count": null,
   "id": "aff7b8c6-791a-43a7-a4d5-3c983dca6526",
   "metadata": {},
   "outputs": [],
   "source": []
  },
  {
   "cell_type": "code",
   "execution_count": null,
   "id": "bc5479e8-2128-49dc-b413-f5d569c71ab9",
   "metadata": {},
   "outputs": [],
   "source": []
  }
 ],
 "metadata": {
  "kernelspec": {
   "display_name": "Python 3 (ipykernel)",
   "language": "python",
   "name": "python3"
  },
  "language_info": {
   "codemirror_mode": {
    "name": "ipython",
    "version": 3
   },
   "file_extension": ".py",
   "mimetype": "text/x-python",
   "name": "python",
   "nbconvert_exporter": "python",
   "pygments_lexer": "ipython3",
   "version": "3.13.2"
  }
 },
 "nbformat": 4,
 "nbformat_minor": 5
}
